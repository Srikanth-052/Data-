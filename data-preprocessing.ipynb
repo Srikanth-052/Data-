{
 "cells": [
  {
   "cell_type": "markdown",
   "metadata": {},
   "source": [
    "# Data Preparation"
   ]
  },
  {
   "cell_type": "markdown",
   "metadata": {},
   "source": [
    "### 1- Dealing with Outliers"
   ]
  },
  {
   "cell_type": "code",
   "execution_count": 1,
   "metadata": {
    "execution": {
     "iopub.execute_input": "2021-12-20T19:23:55.785726Z",
     "iopub.status.busy": "2021-12-20T19:23:55.785321Z",
     "iopub.status.idle": "2021-12-20T19:23:56.885868Z",
     "shell.execute_reply": "2021-12-20T19:23:56.884539Z",
     "shell.execute_reply.started": "2021-12-20T19:23:55.785642Z"
    }
   },
   "outputs": [],
   "source": [
    "import numpy as np\n",
    "import pandas as pd\n",
    "import matplotlib.pyplot as plt\n",
    "import seaborn as sns\n",
    "%matplotlib inline"
   ]
  },
  {
   "cell_type": "code",
   "execution_count": 2,
   "metadata": {
    "execution": {
     "iopub.execute_input": "2021-12-20T19:23:56.889171Z",
     "iopub.status.busy": "2021-12-20T19:23:56.888529Z",
     "iopub.status.idle": "2021-12-20T19:23:56.971342Z",
     "shell.execute_reply": "2021-12-20T19:23:56.970234Z",
     "shell.execute_reply.started": "2021-12-20T19:23:56.889122Z"
    }
   },
   "outputs": [],
   "source": [
    "#Import Ames House Dataset\n",
    "df= pd.read_csv('D:\\Housing_Price_Data.csv')"
   ]
  },
  {
   "cell_type": "code",
   "execution_count": 3,
   "metadata": {
    "execution": {
     "iopub.execute_input": "2021-12-20T19:23:56.975284Z",
     "iopub.status.busy": "2021-12-20T19:23:56.974815Z",
     "iopub.status.idle": "2021-12-20T19:23:57.025817Z",
     "shell.execute_reply": "2021-12-20T19:23:57.024131Z",
     "shell.execute_reply.started": "2021-12-20T19:23:56.975234Z"
    }
   },
   "outputs": [
    {
     "data": {
      "text/html": [
       "<div>\n",
       "<style scoped>\n",
       "    .dataframe tbody tr th:only-of-type {\n",
       "        vertical-align: middle;\n",
       "    }\n",
       "\n",
       "    .dataframe tbody tr th {\n",
       "        vertical-align: top;\n",
       "    }\n",
       "\n",
       "    .dataframe thead th {\n",
       "        text-align: right;\n",
       "    }\n",
       "</style>\n",
       "<table border=\"1\" class=\"dataframe\">\n",
       "  <thead>\n",
       "    <tr style=\"text-align: right;\">\n",
       "      <th></th>\n",
       "      <th>PID</th>\n",
       "      <th>MS SubClass</th>\n",
       "      <th>MS Zoning</th>\n",
       "      <th>Lot Frontage</th>\n",
       "      <th>Lot Area</th>\n",
       "      <th>Street</th>\n",
       "      <th>Alley</th>\n",
       "      <th>Lot Shape</th>\n",
       "      <th>Land Contour</th>\n",
       "      <th>Utilities</th>\n",
       "      <th>...</th>\n",
       "      <th>Pool Area</th>\n",
       "      <th>Pool QC</th>\n",
       "      <th>Fence</th>\n",
       "      <th>Misc Feature</th>\n",
       "      <th>Misc Val</th>\n",
       "      <th>Mo Sold</th>\n",
       "      <th>Yr Sold</th>\n",
       "      <th>Sale Type</th>\n",
       "      <th>Sale Condition</th>\n",
       "      <th>SalePrice</th>\n",
       "    </tr>\n",
       "  </thead>\n",
       "  <tbody>\n",
       "    <tr>\n",
       "      <th>0</th>\n",
       "      <td>526301100</td>\n",
       "      <td>20</td>\n",
       "      <td>RL</td>\n",
       "      <td>141.0</td>\n",
       "      <td>31770</td>\n",
       "      <td>Pave</td>\n",
       "      <td>NaN</td>\n",
       "      <td>IR1</td>\n",
       "      <td>Lvl</td>\n",
       "      <td>AllPub</td>\n",
       "      <td>...</td>\n",
       "      <td>0</td>\n",
       "      <td>NaN</td>\n",
       "      <td>NaN</td>\n",
       "      <td>NaN</td>\n",
       "      <td>0</td>\n",
       "      <td>5</td>\n",
       "      <td>2010</td>\n",
       "      <td>WD</td>\n",
       "      <td>Normal</td>\n",
       "      <td>215000</td>\n",
       "    </tr>\n",
       "    <tr>\n",
       "      <th>1</th>\n",
       "      <td>526350040</td>\n",
       "      <td>20</td>\n",
       "      <td>RH</td>\n",
       "      <td>80.0</td>\n",
       "      <td>11622</td>\n",
       "      <td>Pave</td>\n",
       "      <td>NaN</td>\n",
       "      <td>Reg</td>\n",
       "      <td>Lvl</td>\n",
       "      <td>AllPub</td>\n",
       "      <td>...</td>\n",
       "      <td>0</td>\n",
       "      <td>NaN</td>\n",
       "      <td>MnPrv</td>\n",
       "      <td>NaN</td>\n",
       "      <td>0</td>\n",
       "      <td>6</td>\n",
       "      <td>2010</td>\n",
       "      <td>WD</td>\n",
       "      <td>Normal</td>\n",
       "      <td>105000</td>\n",
       "    </tr>\n",
       "    <tr>\n",
       "      <th>2</th>\n",
       "      <td>526351010</td>\n",
       "      <td>20</td>\n",
       "      <td>RL</td>\n",
       "      <td>81.0</td>\n",
       "      <td>14267</td>\n",
       "      <td>Pave</td>\n",
       "      <td>NaN</td>\n",
       "      <td>IR1</td>\n",
       "      <td>Lvl</td>\n",
       "      <td>AllPub</td>\n",
       "      <td>...</td>\n",
       "      <td>0</td>\n",
       "      <td>NaN</td>\n",
       "      <td>NaN</td>\n",
       "      <td>Gar2</td>\n",
       "      <td>12500</td>\n",
       "      <td>6</td>\n",
       "      <td>2010</td>\n",
       "      <td>WD</td>\n",
       "      <td>Normal</td>\n",
       "      <td>172000</td>\n",
       "    </tr>\n",
       "    <tr>\n",
       "      <th>3</th>\n",
       "      <td>526353030</td>\n",
       "      <td>20</td>\n",
       "      <td>RL</td>\n",
       "      <td>93.0</td>\n",
       "      <td>11160</td>\n",
       "      <td>Pave</td>\n",
       "      <td>NaN</td>\n",
       "      <td>Reg</td>\n",
       "      <td>Lvl</td>\n",
       "      <td>AllPub</td>\n",
       "      <td>...</td>\n",
       "      <td>0</td>\n",
       "      <td>NaN</td>\n",
       "      <td>NaN</td>\n",
       "      <td>NaN</td>\n",
       "      <td>0</td>\n",
       "      <td>4</td>\n",
       "      <td>2010</td>\n",
       "      <td>WD</td>\n",
       "      <td>Normal</td>\n",
       "      <td>244000</td>\n",
       "    </tr>\n",
       "    <tr>\n",
       "      <th>4</th>\n",
       "      <td>527105010</td>\n",
       "      <td>60</td>\n",
       "      <td>RL</td>\n",
       "      <td>74.0</td>\n",
       "      <td>13830</td>\n",
       "      <td>Pave</td>\n",
       "      <td>NaN</td>\n",
       "      <td>IR1</td>\n",
       "      <td>Lvl</td>\n",
       "      <td>AllPub</td>\n",
       "      <td>...</td>\n",
       "      <td>0</td>\n",
       "      <td>NaN</td>\n",
       "      <td>MnPrv</td>\n",
       "      <td>NaN</td>\n",
       "      <td>0</td>\n",
       "      <td>3</td>\n",
       "      <td>2010</td>\n",
       "      <td>WD</td>\n",
       "      <td>Normal</td>\n",
       "      <td>189900</td>\n",
       "    </tr>\n",
       "  </tbody>\n",
       "</table>\n",
       "<p>5 rows × 81 columns</p>\n",
       "</div>"
      ],
      "text/plain": [
       "         PID  MS SubClass MS Zoning  Lot Frontage  Lot Area Street Alley  \\\n",
       "0  526301100           20        RL         141.0     31770   Pave   NaN   \n",
       "1  526350040           20        RH          80.0     11622   Pave   NaN   \n",
       "2  526351010           20        RL          81.0     14267   Pave   NaN   \n",
       "3  526353030           20        RL          93.0     11160   Pave   NaN   \n",
       "4  527105010           60        RL          74.0     13830   Pave   NaN   \n",
       "\n",
       "  Lot Shape Land Contour Utilities  ... Pool Area Pool QC  Fence Misc Feature  \\\n",
       "0       IR1          Lvl    AllPub  ...         0     NaN    NaN          NaN   \n",
       "1       Reg          Lvl    AllPub  ...         0     NaN  MnPrv          NaN   \n",
       "2       IR1          Lvl    AllPub  ...         0     NaN    NaN         Gar2   \n",
       "3       Reg          Lvl    AllPub  ...         0     NaN    NaN          NaN   \n",
       "4       IR1          Lvl    AllPub  ...         0     NaN  MnPrv          NaN   \n",
       "\n",
       "  Misc Val Mo Sold Yr Sold  Sale Type  Sale Condition  SalePrice  \n",
       "0        0       5    2010        WD           Normal     215000  \n",
       "1        0       6    2010        WD           Normal     105000  \n",
       "2    12500       6    2010        WD           Normal     172000  \n",
       "3        0       4    2010        WD           Normal     244000  \n",
       "4        0       3    2010        WD           Normal     189900  \n",
       "\n",
       "[5 rows x 81 columns]"
      ]
     },
     "execution_count": 3,
     "metadata": {},
     "output_type": "execute_result"
    }
   ],
   "source": [
    "df.head()"
   ]
  },
  {
   "cell_type": "code",
   "execution_count": 4,
   "metadata": {
    "execution": {
     "iopub.execute_input": "2021-12-20T19:23:57.028441Z",
     "iopub.status.busy": "2021-12-20T19:23:57.027986Z",
     "iopub.status.idle": "2021-12-20T19:23:57.061826Z",
     "shell.execute_reply": "2021-12-20T19:23:57.060979Z",
     "shell.execute_reply.started": "2021-12-20T19:23:57.028394Z"
    }
   },
   "outputs": [
    {
     "data": {
      "text/plain": [
       "PID               -0.246521\n",
       "Enclosed Porch    -0.128787\n",
       "Kitchen AbvGr     -0.119814\n",
       "Overall Cond      -0.101697\n",
       "MS SubClass       -0.085092\n",
       "Low Qual Fin SF   -0.037660\n",
       "Bsmt Half Bath    -0.035835\n",
       "Yr Sold           -0.030569\n",
       "Misc Val          -0.015691\n",
       "BsmtFin SF 2       0.005891\n",
       "3Ssn Porch         0.032225\n",
       "Mo Sold            0.035259\n",
       "Pool Area          0.068403\n",
       "Screen Porch       0.112151\n",
       "Bedroom AbvGr      0.143913\n",
       "Bsmt Unf SF        0.182855\n",
       "Lot Area           0.266549\n",
       "2nd Flr SF         0.269373\n",
       "Bsmt Full Bath     0.276050\n",
       "Half Bath          0.285056\n",
       "Open Porch SF      0.312951\n",
       "Wood Deck SF       0.327143\n",
       "Lot Frontage       0.357318\n",
       "BsmtFin SF 1       0.432914\n",
       "Fireplaces         0.474558\n",
       "TotRms AbvGrd      0.495474\n",
       "Mas Vnr Area       0.508285\n",
       "Garage Yr Blt      0.526965\n",
       "Year Remod/Add     0.532974\n",
       "Full Bath          0.545604\n",
       "Year Built         0.558426\n",
       "1st Flr SF         0.621676\n",
       "Total Bsmt SF      0.632280\n",
       "Garage Area        0.640401\n",
       "Garage Cars        0.647877\n",
       "Gr Liv Area        0.706780\n",
       "Overall Qual       0.799262\n",
       "SalePrice          1.000000\n",
       "Name: SalePrice, dtype: float64"
      ]
     },
     "execution_count": 4,
     "metadata": {},
     "output_type": "execute_result"
    }
   ],
   "source": [
    "#Our objective is to predict the SalePrice based on several Features, \n",
    "# Correlation overview:\n",
    "df.corr()['SalePrice'].sort_values()"
   ]
  },
  {
   "cell_type": "code",
   "execution_count": 5,
   "metadata": {
    "execution": {
     "iopub.execute_input": "2021-12-20T19:23:57.063642Z",
     "iopub.status.busy": "2021-12-20T19:23:57.063041Z",
     "iopub.status.idle": "2021-12-20T19:23:57.379116Z",
     "shell.execute_reply": "2021-12-20T19:23:57.378093Z",
     "shell.execute_reply.started": "2021-12-20T19:23:57.063605Z"
    }
   },
   "outputs": [
    {
     "data": {
      "text/plain": [
       "<matplotlib.lines.Line2D at 0x2710c569070>"
      ]
     },
     "execution_count": 5,
     "metadata": {},
     "output_type": "execute_result"
    },
    {
     "data": {
      "image/png": "[encoded data removed]",
      "text/plain": [
       "<Figure size 432x288 with 1 Axes>"
      ]
     },
     "metadata": {
      "needs_background": "light"
     },
     "output_type": "display_data"
    }
   ],
   "source": [
    "sns.scatterplot(data=df, x='Overall Qual', y='SalePrice')\n",
    "plt.axhline(y=200000,color='r')"
   ]
  },
  {
   "cell_type": "code",
   "execution_count": 6,
   "metadata": {
    "execution": {
     "iopub.execute_input": "2021-12-20T19:23:57.380896Z",
     "iopub.status.busy": "2021-12-20T19:23:57.380402Z",
     "iopub.status.idle": "2021-12-20T19:23:57.39394Z",
     "shell.execute_reply": "2021-12-20T19:23:57.392735Z",
     "shell.execute_reply.started": "2021-12-20T19:23:57.380862Z"
    }
   },
   "outputs": [
    {
     "data": {
      "text/html": [
       "<div>\n",
       "<style scoped>\n",
       "    .dataframe tbody tr th:only-of-type {\n",
       "        vertical-align: middle;\n",
       "    }\n",
       "\n",
       "    .dataframe tbody tr th {\n",
       "        vertical-align: top;\n",
       "    }\n",
       "\n",
       "    .dataframe thead th {\n",
       "        text-align: right;\n",
       "    }\n",
       "</style>\n",
       "<table border=\"1\" class=\"dataframe\">\n",
       "  <thead>\n",
       "    <tr style=\"text-align: right;\">\n",
       "      <th></th>\n",
       "      <th>SalePrice</th>\n",
       "      <th>Overall Qual</th>\n",
       "    </tr>\n",
       "  </thead>\n",
       "  <tbody>\n",
       "    <tr>\n",
       "      <th>1182</th>\n",
       "      <td>150000</td>\n",
       "      <td>9</td>\n",
       "    </tr>\n",
       "    <tr>\n",
       "      <th>1498</th>\n",
       "      <td>160000</td>\n",
       "      <td>10</td>\n",
       "    </tr>\n",
       "    <tr>\n",
       "      <th>2180</th>\n",
       "      <td>183850</td>\n",
       "      <td>10</td>\n",
       "    </tr>\n",
       "    <tr>\n",
       "      <th>2181</th>\n",
       "      <td>184750</td>\n",
       "      <td>10</td>\n",
       "    </tr>\n",
       "  </tbody>\n",
       "</table>\n",
       "</div>"
      ],
      "text/plain": [
       "      SalePrice  Overall Qual\n",
       "1182     150000             9\n",
       "1498     160000            10\n",
       "2180     183850            10\n",
       "2181     184750            10"
      ]
     },
     "execution_count": 6,
     "metadata": {},
     "output_type": "execute_result"
    }
   ],
   "source": [
    "df[(df['Overall Qual']>8) &(df['SalePrice']<200000)][['SalePrice', 'Overall Qual']]"
   ]
  },
  {
   "cell_type": "code",
   "execution_count": 7,
   "metadata": {
    "execution": {
     "iopub.execute_input": "2021-12-20T19:23:57.396802Z",
     "iopub.status.busy": "2021-12-20T19:23:57.396031Z",
     "iopub.status.idle": "2021-12-20T19:23:57.68392Z",
     "shell.execute_reply": "2021-12-20T19:23:57.682817Z",
     "shell.execute_reply.started": "2021-12-20T19:23:57.396753Z"
    }
   },
   "outputs": [
    {
     "data": {
      "text/plain": [
       "<matplotlib.lines.Line2D at 0x2710cdbb5e0>"
      ]
     },
     "execution_count": 7,
     "metadata": {},
     "output_type": "execute_result"
    },
    {
     "data": {
      "image/png": "[encoded data removed]",
      "text/plain": [
       "<Figure size 432x288 with 1 Axes>"
      ]
     },
     "metadata": {
      "needs_background": "light"
     },
     "output_type": "display_data"
    }
   ],
   "source": [
    "sns.scatterplot(x='Gr Liv Area', y='SalePrice', data=df)\n",
    "plt.axhline(y=200000, color='r')\n",
    "plt.axvline(x=4000, color='r')"
   ]
  },
  {
   "cell_type": "code",
   "execution_count": 8,
   "metadata": {
    "execution": {
     "iopub.execute_input": "2021-12-20T19:23:57.686732Z",
     "iopub.status.busy": "2021-12-20T19:23:57.686401Z",
     "iopub.status.idle": "2021-12-20T19:23:57.700539Z",
     "shell.execute_reply": "2021-12-20T19:23:57.698965Z",
     "shell.execute_reply.started": "2021-12-20T19:23:57.686693Z"
    }
   },
   "outputs": [
    {
     "data": {
      "text/html": [
       "<div>\n",
       "<style scoped>\n",
       "    .dataframe tbody tr th:only-of-type {\n",
       "        vertical-align: middle;\n",
       "    }\n",
       "\n",
       "    .dataframe tbody tr th {\n",
       "        vertical-align: top;\n",
       "    }\n",
       "\n",
       "    .dataframe thead th {\n",
       "        text-align: right;\n",
       "    }\n",
       "</style>\n",
       "<table border=\"1\" class=\"dataframe\">\n",
       "  <thead>\n",
       "    <tr style=\"text-align: right;\">\n",
       "      <th></th>\n",
       "      <th>SalePrice</th>\n",
       "      <th>Gr Liv Area</th>\n",
       "    </tr>\n",
       "  </thead>\n",
       "  <tbody>\n",
       "    <tr>\n",
       "      <th>1498</th>\n",
       "      <td>160000</td>\n",
       "      <td>5642</td>\n",
       "    </tr>\n",
       "    <tr>\n",
       "      <th>2180</th>\n",
       "      <td>183850</td>\n",
       "      <td>5095</td>\n",
       "    </tr>\n",
       "    <tr>\n",
       "      <th>2181</th>\n",
       "      <td>184750</td>\n",
       "      <td>4676</td>\n",
       "    </tr>\n",
       "  </tbody>\n",
       "</table>\n",
       "</div>"
      ],
      "text/plain": [
       "      SalePrice  Gr Liv Area\n",
       "1498     160000         5642\n",
       "2180     183850         5095\n",
       "2181     184750         4676"
      ]
     },
     "execution_count": 8,
     "metadata": {},
     "output_type": "execute_result"
    }
   ],
   "source": [
    "df[(df['Gr Liv Area']>4000) & (df['SalePrice']<400000)][['SalePrice', 'Gr Liv Area']]"
   ]
  },
  {
   "cell_type": "code",
   "execution_count": 9,
   "metadata": {
    "execution": {
     "iopub.execute_input": "2021-12-20T19:23:57.703126Z",
     "iopub.status.busy": "2021-12-20T19:23:57.702768Z",
     "iopub.status.idle": "2021-12-20T19:23:57.716767Z",
     "shell.execute_reply": "2021-12-20T19:23:57.715549Z",
     "shell.execute_reply.started": "2021-12-20T19:23:57.703091Z"
    }
   },
   "outputs": [],
   "source": [
    "#Remove the outliers:\n",
    "index_drop=df[(df['Gr Liv Area']>4000) & (df['SalePrice']<400000)].index\n",
    "df=df.drop(index_drop, axis=0)"
   ]
  },
  {
   "cell_type": "code",
   "execution_count": 10,
   "metadata": {
    "execution": {
     "iopub.execute_input": "2021-12-20T19:23:57.719038Z",
     "iopub.status.busy": "2021-12-20T19:23:57.718557Z",
     "iopub.status.idle": "2021-12-20T19:23:57.978508Z",
     "shell.execute_reply": "2021-12-20T19:23:57.977365Z",
     "shell.execute_reply.started": "2021-12-20T19:23:57.718991Z"
    }
   },
   "outputs": [
    {
     "data": {
      "text/plain": [
       "<matplotlib.lines.Line2D at 0x2710ce093d0>"
      ]
     },
     "execution_count": 10,
     "metadata": {},
     "output_type": "execute_result"
    },
    {
     "data": {
      "image/png": "[encoded data removed]",
      "text/plain": [
       "<Figure size 432x288 with 1 Axes>"
      ]
     },
     "metadata": {
      "needs_background": "light"
     },
     "output_type": "display_data"
    }
   ],
   "source": [
    "sns.scatterplot(x='Gr Liv Area', y='SalePrice', data=df)\n",
    "plt.axhline(y=200000, color='r')\n",
    "plt.axvline(x=4000, color='r')"
   ]
  },
  {
   "cell_type": "code",
   "execution_count": 11,
   "metadata": {
    "execution": {
     "iopub.execute_input": "2021-12-20T19:23:57.980246Z",
     "iopub.status.busy": "2021-12-20T19:23:57.979811Z",
     "iopub.status.idle": "2021-12-20T19:23:58.240966Z",
     "shell.execute_reply": "2021-12-20T19:23:58.240089Z",
     "shell.execute_reply.started": "2021-12-20T19:23:57.980202Z"
    }
   },
   "outputs": [
    {
     "data": {
      "text/plain": [
       "<matplotlib.lines.Line2D at 0x2710c538550>"
      ]
     },
     "execution_count": 11,
     "metadata": {},
     "output_type": "execute_result"
    },
    {
     "data": {
      "image/png": "[encoded data removed]",
      "text/plain": [
       "<Figure size 432x288 with 1 Axes>"
      ]
     },
     "metadata": {
      "needs_background": "light"
     },
     "output_type": "display_data"
    }
   ],
   "source": [
    "sns.scatterplot(x='Overall Qual', y='SalePrice', data=df)\n",
    "plt.axhline(y=200000,color='r')"
   ]
  },
  {
   "cell_type": "code",
   "execution_count": 12,
   "metadata": {
    "execution": {
     "iopub.execute_input": "2021-12-20T19:23:58.24292Z",
     "iopub.status.busy": "2021-12-20T19:23:58.24258Z",
     "iopub.status.idle": "2021-12-20T19:23:58.584467Z",
     "shell.execute_reply": "2021-12-20T19:23:58.583327Z",
     "shell.execute_reply.started": "2021-12-20T19:23:58.242888Z"
    }
   },
   "outputs": [
    {
     "data": {
      "text/plain": [
       "<AxesSubplot:xlabel='Overall Qual', ylabel='SalePrice'>"
      ]
     },
     "execution_count": 12,
     "metadata": {},
     "output_type": "execute_result"
    },
    {
     "data": {
      "image/png": "[encoded data removed]",
      "text/plain": [
       "<Figure size 432x288 with 1 Axes>"
      ]
     },
     "metadata": {
      "needs_background": "light"
     },
     "output_type": "display_data"
    }
   ],
   "source": [
    "sns.boxplot(x='Overall Qual', y='SalePrice', data=df)"
   ]
  },
  {
   "cell_type": "markdown",
   "metadata": {},
   "source": [
    "## 2-Dealing with Missing Data"
   ]
  },
  {
   "cell_type": "code",
   "execution_count": 13,
   "metadata": {
    "execution": {
     "iopub.execute_input": "2021-12-20T19:23:58.59103Z",
     "iopub.status.busy": "2021-12-20T19:23:58.590553Z",
     "iopub.status.idle": "2021-12-20T19:23:58.631308Z",
     "shell.execute_reply": "2021-12-20T19:23:58.629931Z",
     "shell.execute_reply.started": "2021-12-20T19:23:58.590997Z"
    }
   },
   "outputs": [
    {
     "data": {
      "text/html": [
       "<div>\n",
       "<style scoped>\n",
       "    .dataframe tbody tr th:only-of-type {\n",
       "        vertical-align: middle;\n",
       "    }\n",
       "\n",
       "    .dataframe tbody tr th {\n",
       "        vertical-align: top;\n",
       "    }\n",
       "\n",
       "    .dataframe thead th {\n",
       "        text-align: right;\n",
       "    }\n",
       "</style>\n",
       "<table border=\"1\" class=\"dataframe\">\n",
       "  <thead>\n",
       "    <tr style=\"text-align: right;\">\n",
       "      <th></th>\n",
       "      <th>PID</th>\n",
       "      <th>MS SubClass</th>\n",
       "      <th>MS Zoning</th>\n",
       "      <th>Lot Frontage</th>\n",
       "      <th>Lot Area</th>\n",
       "      <th>Street</th>\n",
       "      <th>Alley</th>\n",
       "      <th>Lot Shape</th>\n",
       "      <th>Land Contour</th>\n",
       "      <th>Utilities</th>\n",
       "      <th>...</th>\n",
       "      <th>Pool Area</th>\n",
       "      <th>Pool QC</th>\n",
       "      <th>Fence</th>\n",
       "      <th>Misc Feature</th>\n",
       "      <th>Misc Val</th>\n",
       "      <th>Mo Sold</th>\n",
       "      <th>Yr Sold</th>\n",
       "      <th>Sale Type</th>\n",
       "      <th>Sale Condition</th>\n",
       "      <th>SalePrice</th>\n",
       "    </tr>\n",
       "  </thead>\n",
       "  <tbody>\n",
       "    <tr>\n",
       "      <th>0</th>\n",
       "      <td>526301100</td>\n",
       "      <td>20</td>\n",
       "      <td>RL</td>\n",
       "      <td>141.0</td>\n",
       "      <td>31770</td>\n",
       "      <td>Pave</td>\n",
       "      <td>NaN</td>\n",
       "      <td>IR1</td>\n",
       "      <td>Lvl</td>\n",
       "      <td>AllPub</td>\n",
       "      <td>...</td>\n",
       "      <td>0</td>\n",
       "      <td>NaN</td>\n",
       "      <td>NaN</td>\n",
       "      <td>NaN</td>\n",
       "      <td>0</td>\n",
       "      <td>5</td>\n",
       "      <td>2010</td>\n",
       "      <td>WD</td>\n",
       "      <td>Normal</td>\n",
       "      <td>215000</td>\n",
       "    </tr>\n",
       "    <tr>\n",
       "      <th>1</th>\n",
       "      <td>526350040</td>\n",
       "      <td>20</td>\n",
       "      <td>RH</td>\n",
       "      <td>80.0</td>\n",
       "      <td>11622</td>\n",
       "      <td>Pave</td>\n",
       "      <td>NaN</td>\n",
       "      <td>Reg</td>\n",
       "      <td>Lvl</td>\n",
       "      <td>AllPub</td>\n",
       "      <td>...</td>\n",
       "      <td>0</td>\n",
       "      <td>NaN</td>\n",
       "      <td>MnPrv</td>\n",
       "      <td>NaN</td>\n",
       "      <td>0</td>\n",
       "      <td>6</td>\n",
       "      <td>2010</td>\n",
       "      <td>WD</td>\n",
       "      <td>Normal</td>\n",
       "      <td>105000</td>\n",
       "    </tr>\n",
       "    <tr>\n",
       "      <th>2</th>\n",
       "      <td>526351010</td>\n",
       "      <td>20</td>\n",
       "      <td>RL</td>\n",
       "      <td>81.0</td>\n",
       "      <td>14267</td>\n",
       "      <td>Pave</td>\n",
       "      <td>NaN</td>\n",
       "      <td>IR1</td>\n",
       "      <td>Lvl</td>\n",
       "      <td>AllPub</td>\n",
       "      <td>...</td>\n",
       "      <td>0</td>\n",
       "      <td>NaN</td>\n",
       "      <td>NaN</td>\n",
       "      <td>Gar2</td>\n",
       "      <td>12500</td>\n",
       "      <td>6</td>\n",
       "      <td>2010</td>\n",
       "      <td>WD</td>\n",
       "      <td>Normal</td>\n",
       "      <td>172000</td>\n",
       "    </tr>\n",
       "    <tr>\n",
       "      <th>3</th>\n",
       "      <td>526353030</td>\n",
       "      <td>20</td>\n",
       "      <td>RL</td>\n",
       "      <td>93.0</td>\n",
       "      <td>11160</td>\n",
       "      <td>Pave</td>\n",
       "      <td>NaN</td>\n",
       "      <td>Reg</td>\n",
       "      <td>Lvl</td>\n",
       "      <td>AllPub</td>\n",
       "      <td>...</td>\n",
       "      <td>0</td>\n",
       "      <td>NaN</td>\n",
       "      <td>NaN</td>\n",
       "      <td>NaN</td>\n",
       "      <td>0</td>\n",
       "      <td>4</td>\n",
       "      <td>2010</td>\n",
       "      <td>WD</td>\n",
       "      <td>Normal</td>\n",
       "      <td>244000</td>\n",
       "    </tr>\n",
       "    <tr>\n",
       "      <th>4</th>\n",
       "      <td>527105010</td>\n",
       "      <td>60</td>\n",
       "      <td>RL</td>\n",
       "      <td>74.0</td>\n",
       "      <td>13830</td>\n",
       "      <td>Pave</td>\n",
       "      <td>NaN</td>\n",
       "      <td>IR1</td>\n",
       "      <td>Lvl</td>\n",
       "      <td>AllPub</td>\n",
       "      <td>...</td>\n",
       "      <td>0</td>\n",
       "      <td>NaN</td>\n",
       "      <td>MnPrv</td>\n",
       "      <td>NaN</td>\n",
       "      <td>0</td>\n",
       "      <td>3</td>\n",
       "      <td>2010</td>\n",
       "      <td>WD</td>\n",
       "      <td>Normal</td>\n",
       "      <td>189900</td>\n",
       "    </tr>\n",
       "  </tbody>\n",
       "</table>\n",
       "<p>5 rows × 81 columns</p>\n",
       "</div>"
      ],
      "text/plain": [
       "         PID  MS SubClass MS Zoning  Lot Frontage  Lot Area Street Alley  \\\n",
       "0  526301100           20        RL         141.0     31770   Pave   NaN   \n",
       "1  526350040           20        RH          80.0     11622   Pave   NaN   \n",
       "2  526351010           20        RL          81.0     14267   Pave   NaN   \n",
       "3  526353030           20        RL          93.0     11160   Pave   NaN   \n",
       "4  527105010           60        RL          74.0     13830   Pave   NaN   \n",
       "\n",
       "  Lot Shape Land Contour Utilities  ... Pool Area Pool QC  Fence Misc Feature  \\\n",
       "0       IR1          Lvl    AllPub  ...         0     NaN    NaN          NaN   \n",
       "1       Reg          Lvl    AllPub  ...         0     NaN  MnPrv          NaN   \n",
       "2       IR1          Lvl    AllPub  ...         0     NaN    NaN         Gar2   \n",
       "3       Reg          Lvl    AllPub  ...         0     NaN    NaN          NaN   \n",
       "4       IR1          Lvl    AllPub  ...         0     NaN  MnPrv          NaN   \n",
       "\n",
       "  Misc Val Mo Sold Yr Sold  Sale Type  Sale Condition  SalePrice  \n",
       "0        0       5    2010        WD           Normal     215000  \n",
       "1        0       6    2010        WD           Normal     105000  \n",
       "2    12500       6    2010        WD           Normal     172000  \n",
       "3        0       4    2010        WD           Normal     244000  \n",
       "4        0       3    2010        WD           Normal     189900  \n",
       "\n",
       "[5 rows x 81 columns]"
      ]
     },
     "execution_count": 13,
     "metadata": {},
     "output_type": "execute_result"
    }
   ],
   "source": [
    "df.head()"
   ]
  },
  {
   "cell_type": "code",
   "execution_count": 14,
   "metadata": {
    "execution": {
     "iopub.execute_input": "2021-12-20T19:23:58.633006Z",
     "iopub.status.busy": "2021-12-20T19:23:58.632688Z",
     "iopub.status.idle": "2021-12-20T19:23:58.782199Z",
     "shell.execute_reply": "2021-12-20T19:23:58.780963Z",
     "shell.execute_reply.started": "2021-12-20T19:23:58.632973Z"
    }
   },
   "outputs": [
    {
     "name": "stdout",
     "output_type": "stream",
     "text": [
      "<class 'pandas.core.frame.DataFrame'>\n",
      "Int64Index: 2927 entries, 0 to 2929\n",
      "Data columns (total 81 columns):\n",
      " #   Column           Non-Null Count  Dtype  \n",
      "---  ------           --------------  -----  \n",
      " 0   PID              2927 non-null   int64  \n",
      " 1   MS SubClass      2927 non-null   int64  \n",
      " 2   MS Zoning        2927 non-null   object \n",
      " 3   Lot Frontage     2437 non-null   float64\n",
      " 4   Lot Area         2927 non-null   int64  \n",
      " 5   Street           2927 non-null   object \n",
      " 6   Alley            198 non-null    object \n",
      " 7   Lot Shape        2927 non-null   object \n",
      " 8   Land Contour     2927 non-null   object \n",
      " 9   Utilities        2927 non-null   object \n",
      " 10  Lot Config       2927 non-null   object \n",
      " 11  Land Slope       2927 non-null   object \n",
      " 12  Neighborhood     2927 non-null   object \n",
      " 13  Condition 1      2927 non-null   object \n",
      " 14  Condition 2      2927 non-null   object \n",
      " 15  Bldg Type        2927 non-null   object \n",
      " 16  House Style      2927 non-null   object \n",
      " 17  Overall Qual     2927 non-null   int64  \n",
      " 18  Overall Cond     2927 non-null   int64  \n",
      " 19  Year Built       2927 non-null   int64  \n",
      " 20  Year Remod/Add   2927 non-null   int64  \n",
      " 21  Roof Style       2927 non-null   object \n",
      " 22  Roof Matl        2927 non-null   object \n",
      " 23  Exterior 1st     2927 non-null   object \n",
      " 24  Exterior 2nd     2927 non-null   object \n",
      " 25  Mas Vnr Type     2904 non-null   object \n",
      " 26  Mas Vnr Area     2904 non-null   float64\n",
      " 27  Exter Qual       2927 non-null   object \n",
      " 28  Exter Cond       2927 non-null   object \n",
      " 29  Foundation       2927 non-null   object \n",
      " 30  Bsmt Qual        2847 non-null   object \n",
      " 31  Bsmt Cond        2847 non-null   object \n",
      " 32  Bsmt Exposure    2844 non-null   object \n",
      " 33  BsmtFin Type 1   2847 non-null   object \n",
      " 34  BsmtFin SF 1     2926 non-null   float64\n",
      " 35  BsmtFin Type 2   2846 non-null   object \n",
      " 36  BsmtFin SF 2     2926 non-null   float64\n",
      " 37  Bsmt Unf SF      2926 non-null   float64\n",
      " 38  Total Bsmt SF    2926 non-null   float64\n",
      " 39  Heating          2927 non-null   object \n",
      " 40  Heating QC       2927 non-null   object \n",
      " 41  Central Air      2927 non-null   object \n",
      " 42  Electrical       2926 non-null   object \n",
      " 43  1st Flr SF       2927 non-null   int64  \n",
      " 44  2nd Flr SF       2927 non-null   int64  \n",
      " 45  Low Qual Fin SF  2927 non-null   int64  \n",
      " 46  Gr Liv Area      2927 non-null   int64  \n",
      " 47  Bsmt Full Bath   2925 non-null   float64\n",
      " 48  Bsmt Half Bath   2925 non-null   float64\n",
      " 49  Full Bath        2927 non-null   int64  \n",
      " 50  Half Bath        2927 non-null   int64  \n",
      " 51  Bedroom AbvGr    2927 non-null   int64  \n",
      " 52  Kitchen AbvGr    2927 non-null   int64  \n",
      " 53  Kitchen Qual     2927 non-null   object \n",
      " 54  TotRms AbvGrd    2927 non-null   int64  \n",
      " 55  Functional       2927 non-null   object \n",
      " 56  Fireplaces       2927 non-null   int64  \n",
      " 57  Fireplace Qu     1505 non-null   object \n",
      " 58  Garage Type      2770 non-null   object \n",
      " 59  Garage Yr Blt    2768 non-null   float64\n",
      " 60  Garage Finish    2768 non-null   object \n",
      " 61  Garage Cars      2926 non-null   float64\n",
      " 62  Garage Area      2926 non-null   float64\n",
      " 63  Garage Qual      2768 non-null   object \n",
      " 64  Garage Cond      2768 non-null   object \n",
      " 65  Paved Drive      2927 non-null   object \n",
      " 66  Wood Deck SF     2927 non-null   int64  \n",
      " 67  Open Porch SF    2927 non-null   int64  \n",
      " 68  Enclosed Porch   2927 non-null   int64  \n",
      " 69  3Ssn Porch       2927 non-null   int64  \n",
      " 70  Screen Porch     2927 non-null   int64  \n",
      " 71  Pool Area        2927 non-null   int64  \n",
      " 72  Pool QC          12 non-null     object \n",
      " 73  Fence            572 non-null    object \n",
      " 74  Misc Feature     105 non-null    object \n",
      " 75  Misc Val         2927 non-null   int64  \n",
      " 76  Mo Sold          2927 non-null   int64  \n",
      " 77  Yr Sold          2927 non-null   int64  \n",
      " 78  Sale Type        2927 non-null   object \n",
      " 79  Sale Condition   2927 non-null   object \n",
      " 80  SalePrice        2927 non-null   int64  \n",
      "dtypes: float64(11), int64(27), object(43)\n",
      "memory usage: 1.8+ MB\n"
     ]
    }
   ],
   "source": [
    "df.info()"
   ]
  },
  {
   "cell_type": "markdown",
   "metadata": {},
   "source": [
    "### Fill/Keep/Drop?"
   ]
  },
  {
   "cell_type": "code",
   "execution_count": 15,
   "metadata": {
    "execution": {
     "iopub.execute_input": "2021-12-20T19:23:58.784343Z",
     "iopub.status.busy": "2021-12-20T19:23:58.783895Z",
     "iopub.status.idle": "2021-12-20T19:23:58.792544Z",
     "shell.execute_reply": "2021-12-20T19:23:58.791123Z",
     "shell.execute_reply.started": "2021-12-20T19:23:58.784298Z"
    }
   },
   "outputs": [],
   "source": [
    "#Removing the PID (We already have an index, so we don't need PID unique identifier. \n",
    "#becuase it doesn't have any information and can't help our learning models)\n",
    "\n",
    "df= df.drop('PID', axis=1)"
   ]
  },
  {
   "cell_type": "markdown",
   "metadata": {},
   "source": [
    "### A- How Much Data is Missing?"
   ]
  },
  {
   "cell_type": "code",
   "execution_count": 16,
   "metadata": {
    "execution": {
     "iopub.execute_input": "2021-12-20T19:23:58.79526Z",
     "iopub.status.busy": "2021-12-20T19:23:58.794778Z",
     "iopub.status.idle": "2021-12-20T19:23:58.848714Z",
     "shell.execute_reply": "2021-12-20T19:23:58.847656Z",
     "shell.execute_reply.started": "2021-12-20T19:23:58.795198Z"
    }
   },
   "outputs": [
    {
     "data": {
      "text/html": [
       "<div>\n",
       "<style scoped>\n",
       "    .dataframe tbody tr th:only-of-type {\n",
       "        vertical-align: middle;\n",
       "    }\n",
       "\n",
       "    .dataframe tbody tr th {\n",
       "        vertical-align: top;\n",
       "    }\n",
       "\n",
       "    .dataframe thead th {\n",
       "        text-align: right;\n",
       "    }\n",
       "</style>\n",
       "<table border=\"1\" class=\"dataframe\">\n",
       "  <thead>\n",
       "    <tr style=\"text-align: right;\">\n",
       "      <th></th>\n",
       "      <th>MS SubClass</th>\n",
       "      <th>MS Zoning</th>\n",
       "      <th>Lot Frontage</th>\n",
       "      <th>Lot Area</th>\n",
       "      <th>Street</th>\n",
       "      <th>Alley</th>\n",
       "      <th>Lot Shape</th>\n",
       "      <th>Land Contour</th>\n",
       "      <th>Utilities</th>\n",
       "      <th>Lot Config</th>\n",
       "      <th>...</th>\n",
       "      <th>Pool Area</th>\n",
       "      <th>Pool QC</th>\n",
       "      <th>Fence</th>\n",
       "      <th>Misc Feature</th>\n",
       "      <th>Misc Val</th>\n",
       "      <th>Mo Sold</th>\n",
       "      <th>Yr Sold</th>\n",
       "      <th>Sale Type</th>\n",
       "      <th>Sale Condition</th>\n",
       "      <th>SalePrice</th>\n",
       "    </tr>\n",
       "  </thead>\n",
       "  <tbody>\n",
       "    <tr>\n",
       "      <th>0</th>\n",
       "      <td>False</td>\n",
       "      <td>False</td>\n",
       "      <td>False</td>\n",
       "      <td>False</td>\n",
       "      <td>False</td>\n",
       "      <td>True</td>\n",
       "      <td>False</td>\n",
       "      <td>False</td>\n",
       "      <td>False</td>\n",
       "      <td>False</td>\n",
       "      <td>...</td>\n",
       "      <td>False</td>\n",
       "      <td>True</td>\n",
       "      <td>True</td>\n",
       "      <td>True</td>\n",
       "      <td>False</td>\n",
       "      <td>False</td>\n",
       "      <td>False</td>\n",
       "      <td>False</td>\n",
       "      <td>False</td>\n",
       "      <td>False</td>\n",
       "    </tr>\n",
       "    <tr>\n",
       "      <th>1</th>\n",
       "      <td>False</td>\n",
       "      <td>False</td>\n",
       "      <td>False</td>\n",
       "      <td>False</td>\n",
       "      <td>False</td>\n",
       "      <td>True</td>\n",
       "      <td>False</td>\n",
       "      <td>False</td>\n",
       "      <td>False</td>\n",
       "      <td>False</td>\n",
       "      <td>...</td>\n",
       "      <td>False</td>\n",
       "      <td>True</td>\n",
       "      <td>False</td>\n",
       "      <td>True</td>\n",
       "      <td>False</td>\n",
       "      <td>False</td>\n",
       "      <td>False</td>\n",
       "      <td>False</td>\n",
       "      <td>False</td>\n",
       "      <td>False</td>\n",
       "    </tr>\n",
       "    <tr>\n",
       "      <th>2</th>\n",
       "      <td>False</td>\n",
       "      <td>False</td>\n",
       "      <td>False</td>\n",
       "      <td>False</td>\n",
       "      <td>False</td>\n",
       "      <td>True</td>\n",
       "      <td>False</td>\n",
       "      <td>False</td>\n",
       "      <td>False</td>\n",
       "      <td>False</td>\n",
       "      <td>...</td>\n",
       "      <td>False</td>\n",
       "      <td>True</td>\n",
       "      <td>True</td>\n",
       "      <td>False</td>\n",
       "      <td>False</td>\n",
       "      <td>False</td>\n",
       "      <td>False</td>\n",
       "      <td>False</td>\n",
       "      <td>False</td>\n",
       "      <td>False</td>\n",
       "    </tr>\n",
       "    <tr>\n",
       "      <th>3</th>\n",
       "      <td>False</td>\n",
       "      <td>False</td>\n",
       "      <td>False</td>\n",
       "      <td>False</td>\n",
       "      <td>False</td>\n",
       "      <td>True</td>\n",
       "      <td>False</td>\n",
       "      <td>False</td>\n",
       "      <td>False</td>\n",
       "      <td>False</td>\n",
       "      <td>...</td>\n",
       "      <td>False</td>\n",
       "      <td>True</td>\n",
       "      <td>True</td>\n",
       "      <td>True</td>\n",
       "      <td>False</td>\n",
       "      <td>False</td>\n",
       "      <td>False</td>\n",
       "      <td>False</td>\n",
       "      <td>False</td>\n",
       "      <td>False</td>\n",
       "    </tr>\n",
       "    <tr>\n",
       "      <th>4</th>\n",
       "      <td>False</td>\n",
       "      <td>False</td>\n",
       "      <td>False</td>\n",
       "      <td>False</td>\n",
       "      <td>False</td>\n",
       "      <td>True</td>\n",
       "      <td>False</td>\n",
       "      <td>False</td>\n",
       "      <td>False</td>\n",
       "      <td>False</td>\n",
       "      <td>...</td>\n",
       "      <td>False</td>\n",
       "      <td>True</td>\n",
       "      <td>False</td>\n",
       "      <td>True</td>\n",
       "      <td>False</td>\n",
       "      <td>False</td>\n",
       "      <td>False</td>\n",
       "      <td>False</td>\n",
       "      <td>False</td>\n",
       "      <td>False</td>\n",
       "    </tr>\n",
       "    <tr>\n",
       "      <th>...</th>\n",
       "      <td>...</td>\n",
       "      <td>...</td>\n",
       "      <td>...</td>\n",
       "      <td>...</td>\n",
       "      <td>...</td>\n",
       "      <td>...</td>\n",
       "      <td>...</td>\n",
       "      <td>...</td>\n",
       "      <td>...</td>\n",
       "      <td>...</td>\n",
       "      <td>...</td>\n",
       "      <td>...</td>\n",
       "      <td>...</td>\n",
       "      <td>...</td>\n",
       "      <td>...</td>\n",
       "      <td>...</td>\n",
       "      <td>...</td>\n",
       "      <td>...</td>\n",
       "      <td>...</td>\n",
       "      <td>...</td>\n",
       "      <td>...</td>\n",
       "    </tr>\n",
       "    <tr>\n",
       "      <th>2925</th>\n",
       "      <td>False</td>\n",
       "      <td>False</td>\n",
       "      <td>False</td>\n",
       "      <td>False</td>\n",
       "      <td>False</td>\n",
       "      <td>True</td>\n",
       "      <td>False</td>\n",
       "      <td>False</td>\n",
       "      <td>False</td>\n",
       "      <td>False</td>\n",
       "      <td>...</td>\n",
       "      <td>False</td>\n",
       "      <td>True</td>\n",
       "      <td>False</td>\n",
       "      <td>True</td>\n",
       "      <td>False</td>\n",
       "      <td>False</td>\n",
       "      <td>False</td>\n",
       "      <td>False</td>\n",
       "      <td>False</td>\n",
       "      <td>False</td>\n",
       "    </tr>\n",
       "    <tr>\n",
       "      <th>2926</th>\n",
       "      <td>False</td>\n",
       "      <td>False</td>\n",
       "      <td>True</td>\n",
       "      <td>False</td>\n",
       "      <td>False</td>\n",
       "      <td>True</td>\n",
       "      <td>False</td>\n",
       "      <td>False</td>\n",
       "      <td>False</td>\n",
       "      <td>False</td>\n",
       "      <td>...</td>\n",
       "      <td>False</td>\n",
       "      <td>True</td>\n",
       "      <td>False</td>\n",
       "      <td>True</td>\n",
       "      <td>False</td>\n",
       "      <td>False</td>\n",
       "      <td>False</td>\n",
       "      <td>False</td>\n",
       "      <td>False</td>\n",
       "      <td>False</td>\n",
       "    </tr>\n",
       "    <tr>\n",
       "      <th>2927</th>\n",
       "      <td>False</td>\n",
       "      <td>False</td>\n",
       "      <td>False</td>\n",
       "      <td>False</td>\n",
       "      <td>False</td>\n",
       "      <td>True</td>\n",
       "      <td>False</td>\n",
       "      <td>False</td>\n",
       "      <td>False</td>\n",
       "      <td>False</td>\n",
       "      <td>...</td>\n",
       "      <td>False</td>\n",
       "      <td>True</td>\n",
       "      <td>False</td>\n",
       "      <td>False</td>\n",
       "      <td>False</td>\n",
       "      <td>False</td>\n",
       "      <td>False</td>\n",
       "      <td>False</td>\n",
       "      <td>False</td>\n",
       "      <td>False</td>\n",
       "    </tr>\n",
       "    <tr>\n",
       "      <th>2928</th>\n",
       "      <td>False</td>\n",
       "      <td>False</td>\n",
       "      <td>False</td>\n",
       "      <td>False</td>\n",
       "      <td>False</td>\n",
       "      <td>True</td>\n",
       "      <td>False</td>\n",
       "      <td>False</td>\n",
       "      <td>False</td>\n",
       "      <td>False</td>\n",
       "      <td>...</td>\n",
       "      <td>False</td>\n",
       "      <td>True</td>\n",
       "      <td>True</td>\n",
       "      <td>True</td>\n",
       "      <td>False</td>\n",
       "      <td>False</td>\n",
       "      <td>False</td>\n",
       "      <td>False</td>\n",
       "      <td>False</td>\n",
       "      <td>False</td>\n",
       "    </tr>\n",
       "    <tr>\n",
       "      <th>2929</th>\n",
       "      <td>False</td>\n",
       "      <td>False</td>\n",
       "      <td>False</td>\n",
       "      <td>False</td>\n",
       "      <td>False</td>\n",
       "      <td>True</td>\n",
       "      <td>False</td>\n",
       "      <td>False</td>\n",
       "      <td>False</td>\n",
       "      <td>False</td>\n",
       "      <td>...</td>\n",
       "      <td>False</td>\n",
       "      <td>True</td>\n",
       "      <td>True</td>\n",
       "      <td>True</td>\n",
       "      <td>False</td>\n",
       "      <td>False</td>\n",
       "      <td>False</td>\n",
       "      <td>False</td>\n",
       "      <td>False</td>\n",
       "      <td>False</td>\n",
       "    </tr>\n",
       "  </tbody>\n",
       "</table>\n",
       "<p>2927 rows × 80 columns</p>\n",
       "</div>"
      ],
      "text/plain": [
       "      MS SubClass  MS Zoning  Lot Frontage  Lot Area  Street  Alley  \\\n",
       "0           False      False         False     False   False   True   \n",
       "1           False      False         False     False   False   True   \n",
       "2           False      False         False     False   False   True   \n",
       "3           False      False         False     False   False   True   \n",
       "4           False      False         False     False   False   True   \n",
       "...           ...        ...           ...       ...     ...    ...   \n",
       "2925        False      False         False     False   False   True   \n",
       "2926        False      False          True     False   False   True   \n",
       "2927        False      False         False     False   False   True   \n",
       "2928        False      False         False     False   False   True   \n",
       "2929        False      False         False     False   False   True   \n",
       "\n",
       "      Lot Shape  Land Contour  Utilities  Lot Config  ...  Pool Area  Pool QC  \\\n",
       "0         False         False      False       False  ...      False     True   \n",
       "1         False         False      False       False  ...      False     True   \n",
       "2         False         False      False       False  ...      False     True   \n",
       "3         False         False      False       False  ...      False     True   \n",
       "4         False         False      False       False  ...      False     True   \n",
       "...         ...           ...        ...         ...  ...        ...      ...   \n",
       "2925      False         False      False       False  ...      False     True   \n",
       "2926      False         False      False       False  ...      False     True   \n",
       "2927      False         False      False       False  ...      False     True   \n",
       "2928      False         False      False       False  ...      False     True   \n",
       "2929      False         False      False       False  ...      False     True   \n",
       "\n",
       "      Fence  Misc Feature  Misc Val  Mo Sold  Yr Sold  Sale Type  \\\n",
       "0      True          True     False    False    False      False   \n",
       "1     False          True     False    False    False      False   \n",
       "2      True         False     False    False    False      False   \n",
       "3      True          True     False    False    False      False   \n",
       "4     False          True     False    False    False      False   \n",
       "...     ...           ...       ...      ...      ...        ...   \n",
       "2925  False          True     False    False    False      False   \n",
       "2926  False          True     False    False    False      False   \n",
       "2927  False         False     False    False    False      False   \n",
       "2928   True          True     False    False    False      False   \n",
       "2929   True          True     False    False    False      False   \n",
       "\n",
       "      Sale Condition  SalePrice  \n",
       "0              False      False  \n",
       "1              False      False  \n",
       "2              False      False  \n",
       "3              False      False  \n",
       "4              False      False  \n",
       "...              ...        ...  \n",
       "2925           False      False  \n",
       "2926           False      False  \n",
       "2927           False      False  \n",
       "2928           False      False  \n",
       "2929           False      False  \n",
       "\n",
       "[2927 rows x 80 columns]"
      ]
     },
     "execution_count": 16,
     "metadata": {},
     "output_type": "execute_result"
    }
   ],
   "source": [
    "df.isnull()"
   ]
  },
  {
   "cell_type": "code",
   "execution_count": 17,
   "metadata": {
    "execution": {
     "iopub.execute_input": "2021-12-20T19:23:58.850441Z",
     "iopub.status.busy": "2021-12-20T19:23:58.850101Z",
     "iopub.status.idle": "2021-12-20T19:23:58.872841Z",
     "shell.execute_reply": "2021-12-20T19:23:58.871958Z",
     "shell.execute_reply.started": "2021-12-20T19:23:58.850407Z"
    }
   },
   "outputs": [
    {
     "data": {
      "text/plain": [
       "MS SubClass         0\n",
       "MS Zoning           0\n",
       "Lot Frontage      490\n",
       "Lot Area            0\n",
       "Street              0\n",
       "                 ... \n",
       "Mo Sold             0\n",
       "Yr Sold             0\n",
       "Sale Type           0\n",
       "Sale Condition      0\n",
       "SalePrice           0\n",
       "Length: 80, dtype: int64"
      ]
     },
     "execution_count": 17,
     "metadata": {},
     "output_type": "execute_result"
    }
   ],
   "source": [
    "#How many missing data is there in each features?\n",
    "df.isnull().sum()"
   ]
  },
  {
   "cell_type": "code",
   "execution_count": 18,
   "metadata": {
    "execution": {
     "iopub.execute_input": "2021-12-20T19:23:58.874982Z",
     "iopub.status.busy": "2021-12-20T19:23:58.874446Z",
     "iopub.status.idle": "2021-12-20T19:23:58.90051Z",
     "shell.execute_reply": "2021-12-20T19:23:58.899707Z",
     "shell.execute_reply.started": "2021-12-20T19:23:58.874944Z"
    }
   },
   "outputs": [
    {
     "data": {
      "text/plain": [
       "MS SubClass        0.00000\n",
       "MS Zoning          0.00000\n",
       "Lot Frontage      16.74069\n",
       "Lot Area           0.00000\n",
       "Street             0.00000\n",
       "                    ...   \n",
       "Mo Sold            0.00000\n",
       "Yr Sold            0.00000\n",
       "Sale Type          0.00000\n",
       "Sale Condition     0.00000\n",
       "SalePrice          0.00000\n",
       "Length: 80, dtype: float64"
      ]
     },
     "execution_count": 18,
     "metadata": {},
     "output_type": "execute_result"
    }
   ],
   "source": [
    "#The percent of missing data in any feature:\n",
    "100*(df.isnull().sum()/len(df))"
   ]
  },
  {
   "cell_type": "code",
   "execution_count": 19,
   "metadata": {
    "execution": {
     "iopub.execute_input": "2021-12-20T19:23:58.904448Z",
     "iopub.status.busy": "2021-12-20T19:23:58.901763Z",
     "iopub.status.idle": "2021-12-20T19:23:58.910874Z",
     "shell.execute_reply": "2021-12-20T19:23:58.909401Z",
     "shell.execute_reply.started": "2021-12-20T19:23:58.904401Z"
    }
   },
   "outputs": [],
   "source": [
    "#Make a Function to calculate the percent of missing data in each columns (feature) and then sort it\n",
    "def missing_percent(df):\n",
    "    nan_percent= 100*(df.isnull().sum()/len(df))\n",
    "    nan_percent= nan_percent[nan_percent>0].sort_values()\n",
    "    return nan_percent"
   ]
  },
  {
   "cell_type": "code",
   "execution_count": 20,
   "metadata": {
    "execution": {
     "iopub.execute_input": "2021-12-20T19:23:58.912585Z",
     "iopub.status.busy": "2021-12-20T19:23:58.912159Z",
     "iopub.status.idle": "2021-12-20T19:23:58.938063Z",
     "shell.execute_reply": "2021-12-20T19:23:58.937131Z",
     "shell.execute_reply.started": "2021-12-20T19:23:58.912545Z"
    }
   },
   "outputs": [],
   "source": [
    "nan_percent= missing_percent(df)"
   ]
  },
  {
   "cell_type": "code",
   "execution_count": 21,
   "metadata": {
    "execution": {
     "iopub.execute_input": "2021-12-20T19:23:58.939958Z",
     "iopub.status.busy": "2021-12-20T19:23:58.939413Z",
     "iopub.status.idle": "2021-12-20T19:23:58.957803Z",
     "shell.execute_reply": "2021-12-20T19:23:58.956841Z",
     "shell.execute_reply.started": "2021-12-20T19:23:58.939881Z"
    }
   },
   "outputs": [
    {
     "data": {
      "text/plain": [
       "Electrical         0.034165\n",
       "Garage Area        0.034165\n",
       "Total Bsmt SF      0.034165\n",
       "Bsmt Unf SF        0.034165\n",
       "BsmtFin SF 1       0.034165\n",
       "BsmtFin SF 2       0.034165\n",
       "Garage Cars        0.034165\n",
       "Bsmt Full Bath     0.068329\n",
       "Bsmt Half Bath     0.068329\n",
       "Mas Vnr Area       0.785787\n",
       "Mas Vnr Type       0.785787\n",
       "BsmtFin Type 1     2.733174\n",
       "Bsmt Qual          2.733174\n",
       "Bsmt Cond          2.733174\n",
       "BsmtFin Type 2     2.767339\n",
       "Bsmt Exposure      2.835668\n",
       "Garage Type        5.363854\n",
       "Garage Finish      5.432183\n",
       "Garage Qual        5.432183\n",
       "Garage Cond        5.432183\n",
       "Garage Yr Blt      5.432183\n",
       "Lot Frontage      16.740690\n",
       "Fireplace Qu      48.582166\n",
       "Fence             80.457807\n",
       "Alley             93.235395\n",
       "Misc Feature      96.412709\n",
       "Pool QC           99.590024\n",
       "dtype: float64"
      ]
     },
     "execution_count": 21,
     "metadata": {},
     "output_type": "execute_result"
    }
   ],
   "source": [
    "nan_percent"
   ]
  },
  {
   "cell_type": "code",
   "execution_count": 22,
   "metadata": {
    "execution": {
     "iopub.execute_input": "2021-12-20T19:23:58.963307Z",
     "iopub.status.busy": "2021-12-20T19:23:58.96295Z",
     "iopub.status.idle": "2021-12-20T19:23:59.428956Z",
     "shell.execute_reply": "2021-12-20T19:23:59.427692Z",
     "shell.execute_reply.started": "2021-12-20T19:23:58.96327Z"
    }
   },
   "outputs": [
    {
     "data": {
      "text/plain": [
       "(array([ 0,  1,  2,  3,  4,  5,  6,  7,  8,  9, 10, 11, 12, 13, 14, 15, 16,\n",
       "        17, 18, 19, 20, 21, 22, 23, 24, 25, 26]),\n",
       " [Text(0, 0, 'Electrical'),\n",
       "  Text(1, 0, 'Garage Area'),\n",
       "  Text(2, 0, 'Total Bsmt SF'),\n",
       "  Text(3, 0, 'Bsmt Unf SF'),\n",
       "  Text(4, 0, 'BsmtFin SF 1'),\n",
       "  Text(5, 0, 'BsmtFin SF 2'),\n",
       "  Text(6, 0, 'Garage Cars'),\n",
       "  Text(7, 0, 'Bsmt Full Bath'),\n",
       "  Text(8, 0, 'Bsmt Half Bath'),\n",
       "  Text(9, 0, 'Mas Vnr Area'),\n",
       "  Text(10, 0, 'Mas Vnr Type'),\n",
       "  Text(11, 0, 'BsmtFin Type 1'),\n",
       "  Text(12, 0, 'Bsmt Qual'),\n",
       "  Text(13, 0, 'Bsmt Cond'),\n",
       "  Text(14, 0, 'BsmtFin Type 2'),\n",
       "  Text(15, 0, 'Bsmt Exposure'),\n",
       "  Text(16, 0, 'Garage Type'),\n",
       "  Text(17, 0, 'Garage Finish'),\n",
       "  Text(18, 0, 'Garage Qual'),\n",
       "  Text(19, 0, 'Garage Cond'),\n",
       "  Text(20, 0, 'Garage Yr Blt'),\n",
       "  Text(21, 0, 'Lot Frontage'),\n",
       "  Text(22, 0, 'Fireplace Qu'),\n",
       "  Text(23, 0, 'Fence'),\n",
       "  Text(24, 0, 'Alley'),\n",
       "  Text(25, 0, 'Misc Feature'),\n",
       "  Text(26, 0, 'Pool QC')])"
      ]
     },
     "execution_count": 22,
     "metadata": {},
     "output_type": "execute_result"
    },
    {
     "data": {
      "image/png": "[encoded data removed]",
      "text/plain": [
       "<Figure size 864x432 with 1 Axes>"
      ]
     },
     "metadata": {
      "needs_background": "light"
     },
     "output_type": "display_data"
    }
   ],
   "source": [
    "#plot the feature with missing indicating the percent of missing data\n",
    "plt.figure(figsize=(12,6))\n",
    "sns.barplot(x=nan_percent.index, y=nan_percent)\n",
    "plt.xticks(rotation=90)"
   ]
  },
  {
   "cell_type": "markdown",
   "metadata": {},
   "source": [
    "### B- Working base on Rows Missing Data"
   ]
  },
  {
   "cell_type": "code",
   "execution_count": 23,
   "metadata": {
    "execution": {
     "iopub.execute_input": "2021-12-20T19:23:59.432565Z",
     "iopub.status.busy": "2021-12-20T19:23:59.432192Z",
     "iopub.status.idle": "2021-12-20T19:23:59.872761Z",
     "shell.execute_reply": "2021-12-20T19:23:59.871546Z",
     "shell.execute_reply.started": "2021-12-20T19:23:59.432534Z"
    }
   },
   "outputs": [
    {
     "data": {
      "text/plain": [
       "(0.0, 1.0)"
      ]
     },
     "execution_count": 23,
     "metadata": {},
     "output_type": "execute_result"
    },
    {
     "data": {
      "image/png": "[encoded data removed]",
      "text/plain": [
       "<Figure size 864x432 with 1 Axes>"
      ]
     },
     "metadata": {
      "needs_background": "light"
     },
     "output_type": "display_data"
    }
   ],
   "source": [
    "#every Feature with missing data must be checked!\n",
    "#We choose a threshold of 1%. It means, if there is less than 1% of a feature are missing,\n",
    "#then we will consider just dropping that rows\n",
    "\n",
    "plt.figure(figsize=(12,6))\n",
    "sns.barplot(x=nan_percent.index, y=nan_percent)\n",
    "plt.xticks(rotation=90)\n",
    "\n",
    "#Set 1% threshold:\n",
    "plt.ylim(0,1)"
   ]
  },
  {
   "cell_type": "code",
   "execution_count": 24,
   "metadata": {
    "execution": {
     "iopub.execute_input": "2021-12-20T19:23:59.875035Z",
     "iopub.status.busy": "2021-12-20T19:23:59.874383Z",
     "iopub.status.idle": "2021-12-20T19:23:59.885254Z",
     "shell.execute_reply": "2021-12-20T19:23:59.884171Z",
     "shell.execute_reply.started": "2021-12-20T19:23:59.874982Z"
    }
   },
   "outputs": [
    {
     "data": {
      "text/plain": [
       "Electrical        0.034165\n",
       "Garage Area       0.034165\n",
       "Total Bsmt SF     0.034165\n",
       "Bsmt Unf SF       0.034165\n",
       "BsmtFin SF 1      0.034165\n",
       "BsmtFin SF 2      0.034165\n",
       "Garage Cars       0.034165\n",
       "Bsmt Full Bath    0.068329\n",
       "Bsmt Half Bath    0.068329\n",
       "Mas Vnr Area      0.785787\n",
       "Mas Vnr Type      0.785787\n",
       "dtype: float64"
      ]
     },
     "execution_count": 24,
     "metadata": {},
     "output_type": "execute_result"
    }
   ],
   "source": [
    "nan_percent[nan_percent<1]"
   ]
  },
  {
   "cell_type": "code",
   "execution_count": 25,
   "metadata": {
    "execution": {
     "iopub.execute_input": "2021-12-20T19:23:59.887542Z",
     "iopub.status.busy": "2021-12-20T19:23:59.887093Z",
     "iopub.status.idle": "2021-12-20T19:23:59.909174Z",
     "shell.execute_reply": "2021-12-20T19:23:59.907817Z",
     "shell.execute_reply.started": "2021-12-20T19:23:59.887504Z"
    }
   },
   "outputs": [
    {
     "data": {
      "text/plain": [
       "Index(['Electrical', 'Garage Area', 'Total Bsmt SF', 'Bsmt Unf SF',\n",
       "       'BsmtFin SF 1', 'BsmtFin SF 2', 'Garage Cars', 'Bsmt Full Bath',\n",
       "       'Bsmt Half Bath', 'Mas Vnr Area', 'Mas Vnr Type'],\n",
       "      dtype='object')"
      ]
     },
     "execution_count": 25,
     "metadata": {},
     "output_type": "execute_result"
    }
   ],
   "source": [
    "nan_percent[nan_percent<1].index"
   ]
  },
  {
   "cell_type": "code",
   "execution_count": 26,
   "metadata": {
    "execution": {
     "iopub.execute_input": "2021-12-20T19:23:59.911347Z",
     "iopub.status.busy": "2021-12-20T19:23:59.910923Z",
     "iopub.status.idle": "2021-12-20T19:23:59.923595Z",
     "shell.execute_reply": "2021-12-20T19:23:59.922578Z",
     "shell.execute_reply.started": "2021-12-20T19:23:59.911294Z"
    }
   },
   "outputs": [
    {
     "data": {
      "text/plain": [
       "0.0341646737273659"
      ]
     },
     "execution_count": 26,
     "metadata": {},
     "output_type": "execute_result"
    }
   ],
   "source": [
    "100/len(df)\n",
    "#It shows that, Feature with just one missing rows has this percent value of missing data"
   ]
  },
  {
   "cell_type": "code",
   "execution_count": 27,
   "metadata": {
    "execution": {
     "iopub.execute_input": "2021-12-20T19:23:59.926193Z",
     "iopub.status.busy": "2021-12-20T19:23:59.925368Z",
     "iopub.status.idle": "2021-12-20T19:23:59.966192Z",
     "shell.execute_reply": "2021-12-20T19:23:59.965106Z",
     "shell.execute_reply.started": "2021-12-20T19:23:59.926137Z"
    }
   },
   "outputs": [
    {
     "data": {
      "text/html": [
       "<div>\n",
       "<style scoped>\n",
       "    .dataframe tbody tr th:only-of-type {\n",
       "        vertical-align: middle;\n",
       "    }\n",
       "\n",
       "    .dataframe tbody tr th {\n",
       "        vertical-align: top;\n",
       "    }\n",
       "\n",
       "    .dataframe thead th {\n",
       "        text-align: right;\n",
       "    }\n",
       "</style>\n",
       "<table border=\"1\" class=\"dataframe\">\n",
       "  <thead>\n",
       "    <tr style=\"text-align: right;\">\n",
       "      <th></th>\n",
       "      <th>MS SubClass</th>\n",
       "      <th>MS Zoning</th>\n",
       "      <th>Lot Frontage</th>\n",
       "      <th>Lot Area</th>\n",
       "      <th>Street</th>\n",
       "      <th>Alley</th>\n",
       "      <th>Lot Shape</th>\n",
       "      <th>Land Contour</th>\n",
       "      <th>Utilities</th>\n",
       "      <th>Lot Config</th>\n",
       "      <th>...</th>\n",
       "      <th>Pool Area</th>\n",
       "      <th>Pool QC</th>\n",
       "      <th>Fence</th>\n",
       "      <th>Misc Feature</th>\n",
       "      <th>Misc Val</th>\n",
       "      <th>Mo Sold</th>\n",
       "      <th>Yr Sold</th>\n",
       "      <th>Sale Type</th>\n",
       "      <th>Sale Condition</th>\n",
       "      <th>SalePrice</th>\n",
       "    </tr>\n",
       "  </thead>\n",
       "  <tbody>\n",
       "    <tr>\n",
       "      <th>1577</th>\n",
       "      <td>80</td>\n",
       "      <td>RL</td>\n",
       "      <td>73.0</td>\n",
       "      <td>9735</td>\n",
       "      <td>Pave</td>\n",
       "      <td>NaN</td>\n",
       "      <td>Reg</td>\n",
       "      <td>Lvl</td>\n",
       "      <td>AllPub</td>\n",
       "      <td>Inside</td>\n",
       "      <td>...</td>\n",
       "      <td>0</td>\n",
       "      <td>NaN</td>\n",
       "      <td>NaN</td>\n",
       "      <td>NaN</td>\n",
       "      <td>0</td>\n",
       "      <td>5</td>\n",
       "      <td>2008</td>\n",
       "      <td>WD</td>\n",
       "      <td>Normal</td>\n",
       "      <td>167500</td>\n",
       "    </tr>\n",
       "  </tbody>\n",
       "</table>\n",
       "<p>1 rows × 80 columns</p>\n",
       "</div>"
      ],
      "text/plain": [
       "      MS SubClass MS Zoning  Lot Frontage  Lot Area Street Alley Lot Shape  \\\n",
       "1577           80        RL          73.0      9735   Pave   NaN       Reg   \n",
       "\n",
       "     Land Contour Utilities Lot Config  ... Pool Area Pool QC Fence  \\\n",
       "1577          Lvl    AllPub     Inside  ...         0     NaN   NaN   \n",
       "\n",
       "     Misc Feature Misc Val Mo Sold  Yr Sold  Sale Type  Sale Condition  \\\n",
       "1577          NaN        0       5     2008        WD           Normal   \n",
       "\n",
       "      SalePrice  \n",
       "1577     167500  \n",
       "\n",
       "[1 rows x 80 columns]"
      ]
     },
     "execution_count": 27,
     "metadata": {},
     "output_type": "execute_result"
    }
   ],
   "source": [
    "df[df['Electrical'].isnull()]"
   ]
  },
  {
   "cell_type": "code",
   "execution_count": 28,
   "metadata": {
    "execution": {
     "iopub.execute_input": "2021-12-20T19:23:59.96885Z",
     "iopub.status.busy": "2021-12-20T19:23:59.968169Z",
     "iopub.status.idle": "2021-12-20T19:23:59.999606Z",
     "shell.execute_reply": "2021-12-20T19:23:59.998327Z",
     "shell.execute_reply.started": "2021-12-20T19:23:59.9688Z"
    }
   },
   "outputs": [
    {
     "data": {
      "text/html": [
       "<div>\n",
       "<style scoped>\n",
       "    .dataframe tbody tr th:only-of-type {\n",
       "        vertical-align: middle;\n",
       "    }\n",
       "\n",
       "    .dataframe tbody tr th {\n",
       "        vertical-align: top;\n",
       "    }\n",
       "\n",
       "    .dataframe thead th {\n",
       "        text-align: right;\n",
       "    }\n",
       "</style>\n",
       "<table border=\"1\" class=\"dataframe\">\n",
       "  <thead>\n",
       "    <tr style=\"text-align: right;\">\n",
       "      <th></th>\n",
       "      <th>MS SubClass</th>\n",
       "      <th>MS Zoning</th>\n",
       "      <th>Lot Frontage</th>\n",
       "      <th>Lot Area</th>\n",
       "      <th>Street</th>\n",
       "      <th>Alley</th>\n",
       "      <th>Lot Shape</th>\n",
       "      <th>Land Contour</th>\n",
       "      <th>Utilities</th>\n",
       "      <th>Lot Config</th>\n",
       "      <th>...</th>\n",
       "      <th>Pool Area</th>\n",
       "      <th>Pool QC</th>\n",
       "      <th>Fence</th>\n",
       "      <th>Misc Feature</th>\n",
       "      <th>Misc Val</th>\n",
       "      <th>Mo Sold</th>\n",
       "      <th>Yr Sold</th>\n",
       "      <th>Sale Type</th>\n",
       "      <th>Sale Condition</th>\n",
       "      <th>SalePrice</th>\n",
       "    </tr>\n",
       "  </thead>\n",
       "  <tbody>\n",
       "    <tr>\n",
       "      <th>2236</th>\n",
       "      <td>70</td>\n",
       "      <td>RM</td>\n",
       "      <td>50.0</td>\n",
       "      <td>9060</td>\n",
       "      <td>Pave</td>\n",
       "      <td>NaN</td>\n",
       "      <td>Reg</td>\n",
       "      <td>Lvl</td>\n",
       "      <td>AllPub</td>\n",
       "      <td>Inside</td>\n",
       "      <td>...</td>\n",
       "      <td>0</td>\n",
       "      <td>NaN</td>\n",
       "      <td>MnPrv</td>\n",
       "      <td>NaN</td>\n",
       "      <td>0</td>\n",
       "      <td>3</td>\n",
       "      <td>2007</td>\n",
       "      <td>WD</td>\n",
       "      <td>Alloca</td>\n",
       "      <td>150909</td>\n",
       "    </tr>\n",
       "  </tbody>\n",
       "</table>\n",
       "<p>1 rows × 80 columns</p>\n",
       "</div>"
      ],
      "text/plain": [
       "      MS SubClass MS Zoning  Lot Frontage  Lot Area Street Alley Lot Shape  \\\n",
       "2236           70        RM          50.0      9060   Pave   NaN       Reg   \n",
       "\n",
       "     Land Contour Utilities Lot Config  ... Pool Area Pool QC  Fence  \\\n",
       "2236          Lvl    AllPub     Inside  ...         0     NaN  MnPrv   \n",
       "\n",
       "     Misc Feature Misc Val Mo Sold  Yr Sold  Sale Type  Sale Condition  \\\n",
       "2236          NaN        0       3     2007        WD           Alloca   \n",
       "\n",
       "      SalePrice  \n",
       "2236     150909  \n",
       "\n",
       "[1 rows x 80 columns]"
      ]
     },
     "execution_count": 28,
     "metadata": {},
     "output_type": "execute_result"
    }
   ],
   "source": [
    "df[df['Garage Area'].isnull()]"
   ]
  },
  {
   "cell_type": "markdown",
   "metadata": {},
   "source": [
    "### Dropping Rows:"
   ]
  },
  {
   "cell_type": "code",
   "execution_count": 29,
   "metadata": {
    "execution": {
     "iopub.execute_input": "2021-12-20T19:24:00.001461Z",
     "iopub.status.busy": "2021-12-20T19:24:00.001064Z",
     "iopub.status.idle": "2021-12-20T19:24:00.012975Z",
     "shell.execute_reply": "2021-12-20T19:24:00.012113Z",
     "shell.execute_reply.started": "2021-12-20T19:24:00.001422Z"
    }
   },
   "outputs": [],
   "source": [
    "df= df.dropna(axis=0, subset=['Electrical', 'Garage Area'])"
   ]
  },
  {
   "cell_type": "code",
   "execution_count": 30,
   "metadata": {
    "execution": {
     "iopub.execute_input": "2021-12-20T19:24:00.015074Z",
     "iopub.status.busy": "2021-12-20T19:24:00.014695Z",
     "iopub.status.idle": "2021-12-20T19:24:00.439087Z",
     "shell.execute_reply": "2021-12-20T19:24:00.43796Z",
     "shell.execute_reply.started": "2021-12-20T19:24:00.015017Z"
    }
   },
   "outputs": [
    {
     "data": {
      "text/plain": [
       "(0.0, 1.0)"
      ]
     },
     "execution_count": 30,
     "metadata": {},
     "output_type": "execute_result"
    },
    {
     "data": {
      "image/png": "[encoded data removed]",
      "text/plain": [
       "<Figure size 864x432 with 1 Axes>"
      ]
     },
     "metadata": {
      "needs_background": "light"
     },
     "output_type": "display_data"
    }
   ],
   "source": [
    "nan_percent= missing_percent(df)\n",
    "\n",
    "plt.figure(figsize=(12,6))\n",
    "sns.barplot(x=nan_percent.index, y=nan_percent)\n",
    "plt.xticks(rotation=90)\n",
    "plt.ylim(0,1)"
   ]
  },
  {
   "cell_type": "markdown",
   "metadata": {},
   "source": [
    "### Filling the missing values:"
   ]
  },
  {
   "cell_type": "code",
   "execution_count": 31,
   "metadata": {
    "execution": {
     "iopub.execute_input": "2021-12-20T19:24:00.441327Z",
     "iopub.status.busy": "2021-12-20T19:24:00.440646Z",
     "iopub.status.idle": "2021-12-20T19:24:00.445822Z",
     "shell.execute_reply": "2021-12-20T19:24:00.444535Z",
     "shell.execute_reply.started": "2021-12-20T19:24:00.441274Z"
    }
   },
   "outputs": [],
   "source": [
    "#Features related to Basement:"
   ]
  },
  {
   "cell_type": "code",
   "execution_count": 32,
   "metadata": {
    "execution": {
     "iopub.execute_input": "2021-12-20T19:24:00.447942Z",
     "iopub.status.busy": "2021-12-20T19:24:00.447544Z",
     "iopub.status.idle": "2021-12-20T19:24:00.484836Z",
     "shell.execute_reply": "2021-12-20T19:24:00.483434Z",
     "shell.execute_reply.started": "2021-12-20T19:24:00.447908Z"
    }
   },
   "outputs": [
    {
     "data": {
      "text/html": [
       "<div>\n",
       "<style scoped>\n",
       "    .dataframe tbody tr th:only-of-type {\n",
       "        vertical-align: middle;\n",
       "    }\n",
       "\n",
       "    .dataframe tbody tr th {\n",
       "        vertical-align: top;\n",
       "    }\n",
       "\n",
       "    .dataframe thead th {\n",
       "        text-align: right;\n",
       "    }\n",
       "</style>\n",
       "<table border=\"1\" class=\"dataframe\">\n",
       "  <thead>\n",
       "    <tr style=\"text-align: right;\">\n",
       "      <th></th>\n",
       "      <th>MS SubClass</th>\n",
       "      <th>MS Zoning</th>\n",
       "      <th>Lot Frontage</th>\n",
       "      <th>Lot Area</th>\n",
       "      <th>Street</th>\n",
       "      <th>Alley</th>\n",
       "      <th>Lot Shape</th>\n",
       "      <th>Land Contour</th>\n",
       "      <th>Utilities</th>\n",
       "      <th>Lot Config</th>\n",
       "      <th>...</th>\n",
       "      <th>Pool Area</th>\n",
       "      <th>Pool QC</th>\n",
       "      <th>Fence</th>\n",
       "      <th>Misc Feature</th>\n",
       "      <th>Misc Val</th>\n",
       "      <th>Mo Sold</th>\n",
       "      <th>Yr Sold</th>\n",
       "      <th>Sale Type</th>\n",
       "      <th>Sale Condition</th>\n",
       "      <th>SalePrice</th>\n",
       "    </tr>\n",
       "  </thead>\n",
       "  <tbody>\n",
       "    <tr>\n",
       "      <th>1341</th>\n",
       "      <td>20</td>\n",
       "      <td>RM</td>\n",
       "      <td>99.0</td>\n",
       "      <td>5940</td>\n",
       "      <td>Pave</td>\n",
       "      <td>NaN</td>\n",
       "      <td>IR1</td>\n",
       "      <td>Lvl</td>\n",
       "      <td>AllPub</td>\n",
       "      <td>FR3</td>\n",
       "      <td>...</td>\n",
       "      <td>0</td>\n",
       "      <td>NaN</td>\n",
       "      <td>MnPrv</td>\n",
       "      <td>NaN</td>\n",
       "      <td>0</td>\n",
       "      <td>4</td>\n",
       "      <td>2008</td>\n",
       "      <td>ConLD</td>\n",
       "      <td>Abnorml</td>\n",
       "      <td>79000</td>\n",
       "    </tr>\n",
       "  </tbody>\n",
       "</table>\n",
       "<p>1 rows × 80 columns</p>\n",
       "</div>"
      ],
      "text/plain": [
       "      MS SubClass MS Zoning  Lot Frontage  Lot Area Street Alley Lot Shape  \\\n",
       "1341           20        RM          99.0      5940   Pave   NaN       IR1   \n",
       "\n",
       "     Land Contour Utilities Lot Config  ... Pool Area Pool QC  Fence  \\\n",
       "1341          Lvl    AllPub        FR3  ...         0     NaN  MnPrv   \n",
       "\n",
       "     Misc Feature Misc Val Mo Sold  Yr Sold  Sale Type  Sale Condition  \\\n",
       "1341          NaN        0       4     2008      ConLD         Abnorml   \n",
       "\n",
       "      SalePrice  \n",
       "1341      79000  \n",
       "\n",
       "[1 rows x 80 columns]"
      ]
     },
     "execution_count": 32,
     "metadata": {},
     "output_type": "execute_result"
    }
   ],
   "source": [
    "df[df['Total Bsmt SF'].isnull()]"
   ]
  },
  {
   "cell_type": "code",
   "execution_count": 33,
   "metadata": {
    "execution": {
     "iopub.execute_input": "2021-12-20T19:24:00.486893Z",
     "iopub.status.busy": "2021-12-20T19:24:00.486412Z",
     "iopub.status.idle": "2021-12-20T19:24:00.525803Z",
     "shell.execute_reply": "2021-12-20T19:24:00.524647Z",
     "shell.execute_reply.started": "2021-12-20T19:24:00.486842Z"
    }
   },
   "outputs": [
    {
     "data": {
      "text/html": [
       "<div>\n",
       "<style scoped>\n",
       "    .dataframe tbody tr th:only-of-type {\n",
       "        vertical-align: middle;\n",
       "    }\n",
       "\n",
       "    .dataframe tbody tr th {\n",
       "        vertical-align: top;\n",
       "    }\n",
       "\n",
       "    .dataframe thead th {\n",
       "        text-align: right;\n",
       "    }\n",
       "</style>\n",
       "<table border=\"1\" class=\"dataframe\">\n",
       "  <thead>\n",
       "    <tr style=\"text-align: right;\">\n",
       "      <th></th>\n",
       "      <th>MS SubClass</th>\n",
       "      <th>MS Zoning</th>\n",
       "      <th>Lot Frontage</th>\n",
       "      <th>Lot Area</th>\n",
       "      <th>Street</th>\n",
       "      <th>Alley</th>\n",
       "      <th>Lot Shape</th>\n",
       "      <th>Land Contour</th>\n",
       "      <th>Utilities</th>\n",
       "      <th>Lot Config</th>\n",
       "      <th>...</th>\n",
       "      <th>Pool Area</th>\n",
       "      <th>Pool QC</th>\n",
       "      <th>Fence</th>\n",
       "      <th>Misc Feature</th>\n",
       "      <th>Misc Val</th>\n",
       "      <th>Mo Sold</th>\n",
       "      <th>Yr Sold</th>\n",
       "      <th>Sale Type</th>\n",
       "      <th>Sale Condition</th>\n",
       "      <th>SalePrice</th>\n",
       "    </tr>\n",
       "  </thead>\n",
       "  <tbody>\n",
       "    <tr>\n",
       "      <th>1341</th>\n",
       "      <td>20</td>\n",
       "      <td>RM</td>\n",
       "      <td>99.0</td>\n",
       "      <td>5940</td>\n",
       "      <td>Pave</td>\n",
       "      <td>NaN</td>\n",
       "      <td>IR1</td>\n",
       "      <td>Lvl</td>\n",
       "      <td>AllPub</td>\n",
       "      <td>FR3</td>\n",
       "      <td>...</td>\n",
       "      <td>0</td>\n",
       "      <td>NaN</td>\n",
       "      <td>MnPrv</td>\n",
       "      <td>NaN</td>\n",
       "      <td>0</td>\n",
       "      <td>4</td>\n",
       "      <td>2008</td>\n",
       "      <td>ConLD</td>\n",
       "      <td>Abnorml</td>\n",
       "      <td>79000</td>\n",
       "    </tr>\n",
       "    <tr>\n",
       "      <th>1497</th>\n",
       "      <td>20</td>\n",
       "      <td>RL</td>\n",
       "      <td>123.0</td>\n",
       "      <td>47007</td>\n",
       "      <td>Pave</td>\n",
       "      <td>NaN</td>\n",
       "      <td>IR1</td>\n",
       "      <td>Lvl</td>\n",
       "      <td>AllPub</td>\n",
       "      <td>Inside</td>\n",
       "      <td>...</td>\n",
       "      <td>0</td>\n",
       "      <td>NaN</td>\n",
       "      <td>NaN</td>\n",
       "      <td>NaN</td>\n",
       "      <td>0</td>\n",
       "      <td>7</td>\n",
       "      <td>2008</td>\n",
       "      <td>WD</td>\n",
       "      <td>Normal</td>\n",
       "      <td>284700</td>\n",
       "    </tr>\n",
       "  </tbody>\n",
       "</table>\n",
       "<p>2 rows × 80 columns</p>\n",
       "</div>"
      ],
      "text/plain": [
       "      MS SubClass MS Zoning  Lot Frontage  Lot Area Street Alley Lot Shape  \\\n",
       "1341           20        RM          99.0      5940   Pave   NaN       IR1   \n",
       "1497           20        RL         123.0     47007   Pave   NaN       IR1   \n",
       "\n",
       "     Land Contour Utilities Lot Config  ... Pool Area Pool QC  Fence  \\\n",
       "1341          Lvl    AllPub        FR3  ...         0     NaN  MnPrv   \n",
       "1497          Lvl    AllPub     Inside  ...         0     NaN    NaN   \n",
       "\n",
       "     Misc Feature Misc Val Mo Sold  Yr Sold  Sale Type  Sale Condition  \\\n",
       "1341          NaN        0       4     2008      ConLD         Abnorml   \n",
       "1497          NaN        0       7     2008        WD           Normal   \n",
       "\n",
       "      SalePrice  \n",
       "1341      79000  \n",
       "1497     284700  \n",
       "\n",
       "[2 rows x 80 columns]"
      ]
     },
     "execution_count": 33,
     "metadata": {},
     "output_type": "execute_result"
    }
   ],
   "source": [
    "df[df['Bsmt Half Bath'].isnull()]"
   ]
  },
  {
   "cell_type": "code",
   "execution_count": 34,
   "metadata": {
    "execution": {
     "iopub.execute_input": "2021-12-20T19:24:00.52765Z",
     "iopub.status.busy": "2021-12-20T19:24:00.527087Z",
     "iopub.status.idle": "2021-12-20T19:24:00.563796Z",
     "shell.execute_reply": "2021-12-20T19:24:00.562808Z",
     "shell.execute_reply.started": "2021-12-20T19:24:00.527608Z"
    }
   },
   "outputs": [
    {
     "data": {
      "text/html": [
       "<div>\n",
       "<style scoped>\n",
       "    .dataframe tbody tr th:only-of-type {\n",
       "        vertical-align: middle;\n",
       "    }\n",
       "\n",
       "    .dataframe tbody tr th {\n",
       "        vertical-align: top;\n",
       "    }\n",
       "\n",
       "    .dataframe thead th {\n",
       "        text-align: right;\n",
       "    }\n",
       "</style>\n",
       "<table border=\"1\" class=\"dataframe\">\n",
       "  <thead>\n",
       "    <tr style=\"text-align: right;\">\n",
       "      <th></th>\n",
       "      <th>MS SubClass</th>\n",
       "      <th>MS Zoning</th>\n",
       "      <th>Lot Frontage</th>\n",
       "      <th>Lot Area</th>\n",
       "      <th>Street</th>\n",
       "      <th>Alley</th>\n",
       "      <th>Lot Shape</th>\n",
       "      <th>Land Contour</th>\n",
       "      <th>Utilities</th>\n",
       "      <th>Lot Config</th>\n",
       "      <th>...</th>\n",
       "      <th>Pool Area</th>\n",
       "      <th>Pool QC</th>\n",
       "      <th>Fence</th>\n",
       "      <th>Misc Feature</th>\n",
       "      <th>Misc Val</th>\n",
       "      <th>Mo Sold</th>\n",
       "      <th>Yr Sold</th>\n",
       "      <th>Sale Type</th>\n",
       "      <th>Sale Condition</th>\n",
       "      <th>SalePrice</th>\n",
       "    </tr>\n",
       "  </thead>\n",
       "  <tbody>\n",
       "    <tr>\n",
       "      <th>1341</th>\n",
       "      <td>20</td>\n",
       "      <td>RM</td>\n",
       "      <td>99.0</td>\n",
       "      <td>5940</td>\n",
       "      <td>Pave</td>\n",
       "      <td>NaN</td>\n",
       "      <td>IR1</td>\n",
       "      <td>Lvl</td>\n",
       "      <td>AllPub</td>\n",
       "      <td>FR3</td>\n",
       "      <td>...</td>\n",
       "      <td>0</td>\n",
       "      <td>NaN</td>\n",
       "      <td>MnPrv</td>\n",
       "      <td>NaN</td>\n",
       "      <td>0</td>\n",
       "      <td>4</td>\n",
       "      <td>2008</td>\n",
       "      <td>ConLD</td>\n",
       "      <td>Abnorml</td>\n",
       "      <td>79000</td>\n",
       "    </tr>\n",
       "    <tr>\n",
       "      <th>1497</th>\n",
       "      <td>20</td>\n",
       "      <td>RL</td>\n",
       "      <td>123.0</td>\n",
       "      <td>47007</td>\n",
       "      <td>Pave</td>\n",
       "      <td>NaN</td>\n",
       "      <td>IR1</td>\n",
       "      <td>Lvl</td>\n",
       "      <td>AllPub</td>\n",
       "      <td>Inside</td>\n",
       "      <td>...</td>\n",
       "      <td>0</td>\n",
       "      <td>NaN</td>\n",
       "      <td>NaN</td>\n",
       "      <td>NaN</td>\n",
       "      <td>0</td>\n",
       "      <td>7</td>\n",
       "      <td>2008</td>\n",
       "      <td>WD</td>\n",
       "      <td>Normal</td>\n",
       "      <td>284700</td>\n",
       "    </tr>\n",
       "  </tbody>\n",
       "</table>\n",
       "<p>2 rows × 80 columns</p>\n",
       "</div>"
      ],
      "text/plain": [
       "      MS SubClass MS Zoning  Lot Frontage  Lot Area Street Alley Lot Shape  \\\n",
       "1341           20        RM          99.0      5940   Pave   NaN       IR1   \n",
       "1497           20        RL         123.0     47007   Pave   NaN       IR1   \n",
       "\n",
       "     Land Contour Utilities Lot Config  ... Pool Area Pool QC  Fence  \\\n",
       "1341          Lvl    AllPub        FR3  ...         0     NaN  MnPrv   \n",
       "1497          Lvl    AllPub     Inside  ...         0     NaN    NaN   \n",
       "\n",
       "     Misc Feature Misc Val Mo Sold  Yr Sold  Sale Type  Sale Condition  \\\n",
       "1341          NaN        0       4     2008      ConLD         Abnorml   \n",
       "1497          NaN        0       7     2008        WD           Normal   \n",
       "\n",
       "      SalePrice  \n",
       "1341      79000  \n",
       "1497     284700  \n",
       "\n",
       "[2 rows x 80 columns]"
      ]
     },
     "execution_count": 34,
     "metadata": {},
     "output_type": "execute_result"
    }
   ],
   "source": [
    "df[df['Bsmt Full Bath'].isnull()]"
   ]
  },
  {
   "cell_type": "code",
   "execution_count": 35,
   "metadata": {
    "execution": {
     "iopub.execute_input": "2021-12-20T19:24:00.566985Z",
     "iopub.status.busy": "2021-12-20T19:24:00.566484Z",
     "iopub.status.idle": "2021-12-20T19:24:00.582366Z",
     "shell.execute_reply": "2021-12-20T19:24:00.581276Z",
     "shell.execute_reply.started": "2021-12-20T19:24:00.566932Z"
    }
   },
   "outputs": [],
   "source": [
    "#After checking the data documentation,\n",
    "#it shows that missing value (two rows) in Basement Features are becouse of there is no basement in these rows\n",
    "#Decision: Filling in data based on column: numerical basement & string descriptive:\n",
    "\n",
    "#Numerical Columns fill with 0:\n",
    "bsmt_num_cols= ['BsmtFin SF 1', 'BsmtFin SF 2', 'Bsmt Unf SF','Total Bsmt SF' ,'Bsmt Full Bath', 'Bsmt Half Bath']\n",
    "df[bsmt_num_cols]=df[bsmt_num_cols].fillna(0)\n",
    "\n",
    "#String Columns fill with None:\n",
    "bsmt_str_cols= ['Bsmt Qual', 'Bsmt Cond', 'Bsmt Exposure', 'BsmtFin Type 1', 'BsmtFin Type 2']\n",
    "df[bsmt_str_cols]= df[bsmt_str_cols].fillna('None')"
   ]
  },
  {
   "cell_type": "code",
   "execution_count": 36,
   "metadata": {
    "execution": {
     "iopub.execute_input": "2021-12-20T19:24:00.58401Z",
     "iopub.status.busy": "2021-12-20T19:24:00.583572Z",
     "iopub.status.idle": "2021-12-20T19:24:00.874716Z",
     "shell.execute_reply": "2021-12-20T19:24:00.873033Z",
     "shell.execute_reply.started": "2021-12-20T19:24:00.583965Z"
    }
   },
   "outputs": [
    {
     "data": {
      "text/plain": [
       "(0.0, 1.0)"
      ]
     },
     "execution_count": 36,
     "metadata": {},
     "output_type": "execute_result"
    },
    {
     "data": {
      "image/png": "[encoded data removed]",
      "text/plain": [
       "<Figure size 864x432 with 1 Axes>"
      ]
     },
     "metadata": {
      "needs_background": "light"
     },
     "output_type": "display_data"
    }
   ],
   "source": [
    "nan_percent= missing_percent(df)\n",
    "\n",
    "plt.figure(figsize=(12,6))\n",
    "sns.barplot(x=nan_percent.index, y=nan_percent)\n",
    "plt.xticks(rotation=90)\n",
    "plt.ylim(0,1)"
   ]
  },
  {
   "cell_type": "markdown",
   "metadata": {},
   "source": [
    "**Mas Vnr Features:**\n",
    "\n",
    "Based on the Dataset Document File, missing values for 'Mas Vnr Type' and 'Mas Vnr Area' means the house doesn't have any mansonry veneer. so, we decide to fill the missing value as below: "
   ]
  },
  {
   "cell_type": "code",
   "execution_count": 37,
   "metadata": {
    "execution": {
     "iopub.execute_input": "2021-12-20T19:24:00.877193Z",
     "iopub.status.busy": "2021-12-20T19:24:00.876691Z",
     "iopub.status.idle": "2021-12-20T19:24:00.886508Z",
     "shell.execute_reply": "2021-12-20T19:24:00.885316Z",
     "shell.execute_reply.started": "2021-12-20T19:24:00.877134Z"
    }
   },
   "outputs": [],
   "source": [
    "df[\"Mas Vnr Type\"]= df[\"Mas Vnr Type\"].fillna(\"None\")\n",
    "df[\"Mas Vnr Area\"]= df[\"Mas Vnr Area\"].fillna(0)"
   ]
  },
  {
   "cell_type": "code",
   "execution_count": 38,
   "metadata": {
    "execution": {
     "iopub.execute_input": "2021-12-20T19:24:00.888255Z",
     "iopub.status.busy": "2021-12-20T19:24:00.887878Z",
     "iopub.status.idle": "2021-12-20T19:24:01.206622Z",
     "shell.execute_reply": "2021-12-20T19:24:01.205408Z",
     "shell.execute_reply.started": "2021-12-20T19:24:00.888202Z"
    }
   },
   "outputs": [
    {
     "data": {
      "text/plain": [
       "(array([ 0,  1,  2,  3,  4,  5,  6,  7,  8,  9, 10]),\n",
       " [Text(0, 0, 'Garage Type'),\n",
       "  Text(1, 0, 'Garage Yr Blt'),\n",
       "  Text(2, 0, 'Garage Finish'),\n",
       "  Text(3, 0, 'Garage Qual'),\n",
       "  Text(4, 0, 'Garage Cond'),\n",
       "  Text(5, 0, 'Lot Frontage'),\n",
       "  Text(6, 0, 'Fireplace Qu'),\n",
       "  Text(7, 0, 'Fence'),\n",
       "  Text(8, 0, 'Alley'),\n",
       "  Text(9, 0, 'Misc Feature'),\n",
       "  Text(10, 0, 'Pool QC')])"
      ]
     },
     "execution_count": 38,
     "metadata": {},
     "output_type": "execute_result"
    },
    {
     "data": {
      "image/png": "[encoded data removed]",
      "text/plain": [
       "<Figure size 864x432 with 1 Axes>"
      ]
     },
     "metadata": {
      "needs_background": "light"
     },
     "output_type": "display_data"
    }
   ],
   "source": [
    "nan_percent= missing_percent(df)\n",
    "\n",
    "plt.figure(figsize=(12,6))\n",
    "sns.barplot(x=nan_percent.index, y=nan_percent)\n",
    "plt.xticks(rotation=90)\n"
   ]
  },
  {
   "cell_type": "markdown",
   "metadata": {},
   "source": [
    "### Garage Columns:\n",
    "**Based on the dataset documentation, NaN in Garage Columns seems to indicate no garage.**\n",
    "\n",
    "**Decision: Fill with 'None' or 0**"
   ]
  },
  {
   "cell_type": "code",
   "execution_count": 39,
   "metadata": {
    "execution": {
     "iopub.execute_input": "2021-12-20T19:24:01.209329Z",
     "iopub.status.busy": "2021-12-20T19:24:01.208526Z",
     "iopub.status.idle": "2021-12-20T19:24:01.238792Z",
     "shell.execute_reply": "2021-12-20T19:24:01.237784Z",
     "shell.execute_reply.started": "2021-12-20T19:24:01.209275Z"
    }
   },
   "outputs": [
    {
     "data": {
      "text/html": [
       "<div>\n",
       "<style scoped>\n",
       "    .dataframe tbody tr th:only-of-type {\n",
       "        vertical-align: middle;\n",
       "    }\n",
       "\n",
       "    .dataframe tbody tr th {\n",
       "        vertical-align: top;\n",
       "    }\n",
       "\n",
       "    .dataframe thead th {\n",
       "        text-align: right;\n",
       "    }\n",
       "</style>\n",
       "<table border=\"1\" class=\"dataframe\">\n",
       "  <thead>\n",
       "    <tr style=\"text-align: right;\">\n",
       "      <th></th>\n",
       "      <th>Garage Type</th>\n",
       "      <th>Garage Yr Blt</th>\n",
       "      <th>Garage Finish</th>\n",
       "      <th>Garage Qual</th>\n",
       "      <th>Garage Cond</th>\n",
       "    </tr>\n",
       "  </thead>\n",
       "  <tbody>\n",
       "    <tr>\n",
       "      <th>0</th>\n",
       "      <td>Attchd</td>\n",
       "      <td>1960.0</td>\n",
       "      <td>Fin</td>\n",
       "      <td>TA</td>\n",
       "      <td>TA</td>\n",
       "    </tr>\n",
       "    <tr>\n",
       "      <th>1</th>\n",
       "      <td>Attchd</td>\n",
       "      <td>1961.0</td>\n",
       "      <td>Unf</td>\n",
       "      <td>TA</td>\n",
       "      <td>TA</td>\n",
       "    </tr>\n",
       "    <tr>\n",
       "      <th>2</th>\n",
       "      <td>Attchd</td>\n",
       "      <td>1958.0</td>\n",
       "      <td>Unf</td>\n",
       "      <td>TA</td>\n",
       "      <td>TA</td>\n",
       "    </tr>\n",
       "    <tr>\n",
       "      <th>3</th>\n",
       "      <td>Attchd</td>\n",
       "      <td>1968.0</td>\n",
       "      <td>Fin</td>\n",
       "      <td>TA</td>\n",
       "      <td>TA</td>\n",
       "    </tr>\n",
       "    <tr>\n",
       "      <th>4</th>\n",
       "      <td>Attchd</td>\n",
       "      <td>1997.0</td>\n",
       "      <td>Fin</td>\n",
       "      <td>TA</td>\n",
       "      <td>TA</td>\n",
       "    </tr>\n",
       "    <tr>\n",
       "      <th>...</th>\n",
       "      <td>...</td>\n",
       "      <td>...</td>\n",
       "      <td>...</td>\n",
       "      <td>...</td>\n",
       "      <td>...</td>\n",
       "    </tr>\n",
       "    <tr>\n",
       "      <th>2925</th>\n",
       "      <td>Detchd</td>\n",
       "      <td>1984.0</td>\n",
       "      <td>Unf</td>\n",
       "      <td>TA</td>\n",
       "      <td>TA</td>\n",
       "    </tr>\n",
       "    <tr>\n",
       "      <th>2926</th>\n",
       "      <td>Attchd</td>\n",
       "      <td>1983.0</td>\n",
       "      <td>Unf</td>\n",
       "      <td>TA</td>\n",
       "      <td>TA</td>\n",
       "    </tr>\n",
       "    <tr>\n",
       "      <th>2927</th>\n",
       "      <td>NaN</td>\n",
       "      <td>NaN</td>\n",
       "      <td>NaN</td>\n",
       "      <td>NaN</td>\n",
       "      <td>NaN</td>\n",
       "    </tr>\n",
       "    <tr>\n",
       "      <th>2928</th>\n",
       "      <td>Attchd</td>\n",
       "      <td>1975.0</td>\n",
       "      <td>RFn</td>\n",
       "      <td>TA</td>\n",
       "      <td>TA</td>\n",
       "    </tr>\n",
       "    <tr>\n",
       "      <th>2929</th>\n",
       "      <td>Attchd</td>\n",
       "      <td>1993.0</td>\n",
       "      <td>Fin</td>\n",
       "      <td>TA</td>\n",
       "      <td>TA</td>\n",
       "    </tr>\n",
       "  </tbody>\n",
       "</table>\n",
       "<p>2925 rows × 5 columns</p>\n",
       "</div>"
      ],
      "text/plain": [
       "     Garage Type  Garage Yr Blt Garage Finish Garage Qual Garage Cond\n",
       "0         Attchd         1960.0           Fin          TA          TA\n",
       "1         Attchd         1961.0           Unf          TA          TA\n",
       "2         Attchd         1958.0           Unf          TA          TA\n",
       "3         Attchd         1968.0           Fin          TA          TA\n",
       "4         Attchd         1997.0           Fin          TA          TA\n",
       "...          ...            ...           ...         ...         ...\n",
       "2925      Detchd         1984.0           Unf          TA          TA\n",
       "2926      Attchd         1983.0           Unf          TA          TA\n",
       "2927         NaN            NaN           NaN         NaN         NaN\n",
       "2928      Attchd         1975.0           RFn          TA          TA\n",
       "2929      Attchd         1993.0           Fin          TA          TA\n",
       "\n",
       "[2925 rows x 5 columns]"
      ]
     },
     "execution_count": 39,
     "metadata": {},
     "output_type": "execute_result"
    }
   ],
   "source": [
    "df[['Garage Type', 'Garage Yr Blt', 'Garage Finish', 'Garage Qual', 'Garage Cond']]"
   ]
  },
  {
   "cell_type": "code",
   "execution_count": 40,
   "metadata": {
    "execution": {
     "iopub.execute_input": "2021-12-20T19:24:01.241115Z",
     "iopub.status.busy": "2021-12-20T19:24:01.24041Z",
     "iopub.status.idle": "2021-12-20T19:24:01.254332Z",
     "shell.execute_reply": "2021-12-20T19:24:01.253113Z",
     "shell.execute_reply.started": "2021-12-20T19:24:01.241067Z"
    }
   },
   "outputs": [],
   "source": [
    "#Filling the missing Value:\n",
    "Gar_str_cols= ['Garage Type', 'Garage Finish', 'Garage Qual', 'Garage Cond']\n",
    "df[Gar_str_cols]=df[Gar_str_cols].fillna('None')\n",
    "\n",
    "df['Garage Yr Blt']=df['Garage Yr Blt'].fillna(0)"
   ]
  },
  {
   "cell_type": "code",
   "execution_count": 41,
   "metadata": {
    "execution": {
     "iopub.execute_input": "2021-12-20T19:24:01.256771Z",
     "iopub.status.busy": "2021-12-20T19:24:01.255962Z",
     "iopub.status.idle": "2021-12-20T19:24:01.464031Z",
     "shell.execute_reply": "2021-12-20T19:24:01.463104Z",
     "shell.execute_reply.started": "2021-12-20T19:24:01.256719Z"
    }
   },
   "outputs": [
    {
     "data": {
      "text/plain": [
       "(array([0, 1, 2, 3, 4, 5]),\n",
       " [Text(0, 0, 'Lot Frontage'),\n",
       "  Text(1, 0, 'Fireplace Qu'),\n",
       "  Text(2, 0, 'Fence'),\n",
       "  Text(3, 0, 'Alley'),\n",
       "  Text(4, 0, 'Misc Feature'),\n",
       "  Text(5, 0, 'Pool QC')])"
      ]
     },
     "execution_count": 41,
     "metadata": {},
     "output_type": "execute_result"
    },
    {
     "data": {
      "image/png": "[encoded data removed]",
      "text/plain": [
       "<Figure size 864x432 with 1 Axes>"
      ]
     },
     "metadata": {
      "needs_background": "light"
     },
     "output_type": "display_data"
    }
   ],
   "source": [
    "nan_percent= missing_percent(df)\n",
    "\n",
    "plt.figure(figsize=(12,6))\n",
    "sns.barplot(x=nan_percent.index, y=nan_percent)\n",
    "plt.xticks(rotation=90)\n"
   ]
  },
  {
   "cell_type": "markdown",
   "metadata": {},
   "source": [
    "### C-Working based on Columns Missing Data"
   ]
  },
  {
   "cell_type": "code",
   "execution_count": 42,
   "metadata": {
    "execution": {
     "iopub.execute_input": "2021-12-20T19:24:01.465567Z",
     "iopub.status.busy": "2021-12-20T19:24:01.46512Z",
     "iopub.status.idle": "2021-12-20T19:24:01.471704Z",
     "shell.execute_reply": "2021-12-20T19:24:01.470684Z",
     "shell.execute_reply.started": "2021-12-20T19:24:01.465535Z"
    }
   },
   "outputs": [
    {
     "data": {
      "text/plain": [
       "Index(['Lot Frontage', 'Fireplace Qu', 'Fence', 'Alley', 'Misc Feature',\n",
       "       'Pool QC'],\n",
       "      dtype='object')"
      ]
     },
     "execution_count": 42,
     "metadata": {},
     "output_type": "execute_result"
    }
   ],
   "source": [
    "nan_percent.index"
   ]
  },
  {
   "cell_type": "code",
   "execution_count": 43,
   "metadata": {
    "execution": {
     "iopub.execute_input": "2021-12-20T19:24:01.473353Z",
     "iopub.status.busy": "2021-12-20T19:24:01.47291Z",
     "iopub.status.idle": "2021-12-20T19:24:01.501891Z",
     "shell.execute_reply": "2021-12-20T19:24:01.501011Z",
     "shell.execute_reply.started": "2021-12-20T19:24:01.473318Z"
    }
   },
   "outputs": [
    {
     "data": {
      "text/html": [
       "<div>\n",
       "<style scoped>\n",
       "    .dataframe tbody tr th:only-of-type {\n",
       "        vertical-align: middle;\n",
       "    }\n",
       "\n",
       "    .dataframe tbody tr th {\n",
       "        vertical-align: top;\n",
       "    }\n",
       "\n",
       "    .dataframe thead th {\n",
       "        text-align: right;\n",
       "    }\n",
       "</style>\n",
       "<table border=\"1\" class=\"dataframe\">\n",
       "  <thead>\n",
       "    <tr style=\"text-align: right;\">\n",
       "      <th></th>\n",
       "      <th>Lot Frontage</th>\n",
       "      <th>Fireplace Qu</th>\n",
       "      <th>Fence</th>\n",
       "      <th>Alley</th>\n",
       "      <th>Misc Feature</th>\n",
       "      <th>Pool QC</th>\n",
       "    </tr>\n",
       "  </thead>\n",
       "  <tbody>\n",
       "    <tr>\n",
       "      <th>0</th>\n",
       "      <td>141.0</td>\n",
       "      <td>Gd</td>\n",
       "      <td>NaN</td>\n",
       "      <td>NaN</td>\n",
       "      <td>NaN</td>\n",
       "      <td>NaN</td>\n",
       "    </tr>\n",
       "    <tr>\n",
       "      <th>1</th>\n",
       "      <td>80.0</td>\n",
       "      <td>NaN</td>\n",
       "      <td>MnPrv</td>\n",
       "      <td>NaN</td>\n",
       "      <td>NaN</td>\n",
       "      <td>NaN</td>\n",
       "    </tr>\n",
       "    <tr>\n",
       "      <th>2</th>\n",
       "      <td>81.0</td>\n",
       "      <td>NaN</td>\n",
       "      <td>NaN</td>\n",
       "      <td>NaN</td>\n",
       "      <td>Gar2</td>\n",
       "      <td>NaN</td>\n",
       "    </tr>\n",
       "    <tr>\n",
       "      <th>3</th>\n",
       "      <td>93.0</td>\n",
       "      <td>TA</td>\n",
       "      <td>NaN</td>\n",
       "      <td>NaN</td>\n",
       "      <td>NaN</td>\n",
       "      <td>NaN</td>\n",
       "    </tr>\n",
       "    <tr>\n",
       "      <th>4</th>\n",
       "      <td>74.0</td>\n",
       "      <td>TA</td>\n",
       "      <td>MnPrv</td>\n",
       "      <td>NaN</td>\n",
       "      <td>NaN</td>\n",
       "      <td>NaN</td>\n",
       "    </tr>\n",
       "    <tr>\n",
       "      <th>...</th>\n",
       "      <td>...</td>\n",
       "      <td>...</td>\n",
       "      <td>...</td>\n",
       "      <td>...</td>\n",
       "      <td>...</td>\n",
       "      <td>...</td>\n",
       "    </tr>\n",
       "    <tr>\n",
       "      <th>2925</th>\n",
       "      <td>37.0</td>\n",
       "      <td>NaN</td>\n",
       "      <td>GdPrv</td>\n",
       "      <td>NaN</td>\n",
       "      <td>NaN</td>\n",
       "      <td>NaN</td>\n",
       "    </tr>\n",
       "    <tr>\n",
       "      <th>2926</th>\n",
       "      <td>NaN</td>\n",
       "      <td>NaN</td>\n",
       "      <td>MnPrv</td>\n",
       "      <td>NaN</td>\n",
       "      <td>NaN</td>\n",
       "      <td>NaN</td>\n",
       "    </tr>\n",
       "    <tr>\n",
       "      <th>2927</th>\n",
       "      <td>62.0</td>\n",
       "      <td>NaN</td>\n",
       "      <td>MnPrv</td>\n",
       "      <td>NaN</td>\n",
       "      <td>Shed</td>\n",
       "      <td>NaN</td>\n",
       "    </tr>\n",
       "    <tr>\n",
       "      <th>2928</th>\n",
       "      <td>77.0</td>\n",
       "      <td>TA</td>\n",
       "      <td>NaN</td>\n",
       "      <td>NaN</td>\n",
       "      <td>NaN</td>\n",
       "      <td>NaN</td>\n",
       "    </tr>\n",
       "    <tr>\n",
       "      <th>2929</th>\n",
       "      <td>74.0</td>\n",
       "      <td>TA</td>\n",
       "      <td>NaN</td>\n",
       "      <td>NaN</td>\n",
       "      <td>NaN</td>\n",
       "      <td>NaN</td>\n",
       "    </tr>\n",
       "  </tbody>\n",
       "</table>\n",
       "<p>2925 rows × 6 columns</p>\n",
       "</div>"
      ],
      "text/plain": [
       "      Lot Frontage Fireplace Qu  Fence Alley Misc Feature Pool QC\n",
       "0            141.0           Gd    NaN   NaN          NaN     NaN\n",
       "1             80.0          NaN  MnPrv   NaN          NaN     NaN\n",
       "2             81.0          NaN    NaN   NaN         Gar2     NaN\n",
       "3             93.0           TA    NaN   NaN          NaN     NaN\n",
       "4             74.0           TA  MnPrv   NaN          NaN     NaN\n",
       "...            ...          ...    ...   ...          ...     ...\n",
       "2925          37.0          NaN  GdPrv   NaN          NaN     NaN\n",
       "2926           NaN          NaN  MnPrv   NaN          NaN     NaN\n",
       "2927          62.0          NaN  MnPrv   NaN         Shed     NaN\n",
       "2928          77.0           TA    NaN   NaN          NaN     NaN\n",
       "2929          74.0           TA    NaN   NaN          NaN     NaN\n",
       "\n",
       "[2925 rows x 6 columns]"
      ]
     },
     "execution_count": 43,
     "metadata": {},
     "output_type": "execute_result"
    }
   ],
   "source": [
    "df[['Lot Frontage', 'Fireplace Qu', 'Fence', 'Alley', 'Misc Feature',\n",
    "       'Pool QC']]"
   ]
  },
  {
   "cell_type": "markdown",
   "metadata": {},
   "source": [
    "**Remove the Columns with more than 80% missing values**"
   ]
  },
  {
   "cell_type": "code",
   "execution_count": 44,
   "metadata": {
    "execution": {
     "iopub.execute_input": "2021-12-20T19:24:01.503725Z",
     "iopub.status.busy": "2021-12-20T19:24:01.503169Z",
     "iopub.status.idle": "2021-12-20T19:24:01.511274Z",
     "shell.execute_reply": "2021-12-20T19:24:01.510069Z",
     "shell.execute_reply.started": "2021-12-20T19:24:01.50369Z"
    }
   },
   "outputs": [],
   "source": [
    "df= df.drop(['Fence', 'Alley', 'Misc Feature','Pool QC'], axis=1)"
   ]
  },
  {
   "cell_type": "code",
   "execution_count": 45,
   "metadata": {
    "execution": {
     "iopub.execute_input": "2021-12-20T19:24:01.513062Z",
     "iopub.status.busy": "2021-12-20T19:24:01.512731Z",
     "iopub.status.idle": "2021-12-20T19:24:01.681659Z",
     "shell.execute_reply": "2021-12-20T19:24:01.680112Z",
     "shell.execute_reply.started": "2021-12-20T19:24:01.513028Z"
    }
   },
   "outputs": [
    {
     "data": {
      "text/plain": [
       "(array([0, 1]), [Text(0, 0, 'Lot Frontage'), Text(1, 0, 'Fireplace Qu')])"
      ]
     },
     "execution_count": 45,
     "metadata": {},
     "output_type": "execute_result"
    },
    {
     "data": {
      "image/png": "[encoded data removed]",
      "text/plain": [
       "<Figure size 864x432 with 1 Axes>"
      ]
     },
     "metadata": {
      "needs_background": "light"
     },
     "output_type": "display_data"
    }
   ],
   "source": [
    "nan_percent= missing_percent(df)\n",
    "\n",
    "plt.figure(figsize=(12,6))\n",
    "sns.barplot(x=nan_percent.index, y=nan_percent)\n",
    "plt.xticks(rotation=90)"
   ]
  },
  {
   "cell_type": "code",
   "execution_count": 46,
   "metadata": {
    "execution": {
     "iopub.execute_input": "2021-12-20T19:24:01.683899Z",
     "iopub.status.busy": "2021-12-20T19:24:01.68354Z",
     "iopub.status.idle": "2021-12-20T19:24:01.690536Z",
     "shell.execute_reply": "2021-12-20T19:24:01.689007Z",
     "shell.execute_reply.started": "2021-12-20T19:24:01.683864Z"
    }
   },
   "outputs": [],
   "source": [
    "#Filling in Fireplace Quality based on dataset documentation:\n",
    "df['Fireplace Qu']= df['Fireplace Qu'].fillna('None')"
   ]
  },
  {
   "cell_type": "code",
   "execution_count": 47,
   "metadata": {
    "execution": {
     "iopub.execute_input": "2021-12-20T19:24:01.692336Z",
     "iopub.status.busy": "2021-12-20T19:24:01.692001Z",
     "iopub.status.idle": "2021-12-20T19:24:01.860246Z",
     "shell.execute_reply": "2021-12-20T19:24:01.859066Z",
     "shell.execute_reply.started": "2021-12-20T19:24:01.692305Z"
    }
   },
   "outputs": [
    {
     "data": {
      "text/plain": [
       "(array([0]), [Text(0, 0, 'Lot Frontage')])"
      ]
     },
     "execution_count": 47,
     "metadata": {},
     "output_type": "execute_result"
    },
    {
     "data": {
      "image/png": "[encoded data removed]",
      "text/plain": [
       "<Figure size 864x432 with 1 Axes>"
      ]
     },
     "metadata": {
      "needs_background": "light"
     },
     "output_type": "display_data"
    }
   ],
   "source": [
    "nan_percent= missing_percent(df)\n",
    "\n",
    "plt.figure(figsize=(12,6))\n",
    "sns.barplot(x=nan_percent.index, y=nan_percent)\n",
    "plt.xticks(rotation=90)"
   ]
  },
  {
   "cell_type": "markdown",
   "metadata": {},
   "source": [
    "### D- Imputation of Missing Data"
   ]
  },
  {
   "cell_type": "markdown",
   "metadata": {},
   "source": [
    "**Columns: Lot Frontage**\n",
    "\n",
    "**We assume that the Lot Frontage is related to what a Neighborhood a house is in**"
   ]
  },
  {
   "cell_type": "code",
   "execution_count": 48,
   "metadata": {
    "execution": {
     "iopub.execute_input": "2021-12-20T19:24:01.864121Z",
     "iopub.status.busy": "2021-12-20T19:24:01.863759Z",
     "iopub.status.idle": "2021-12-20T19:24:01.872125Z",
     "shell.execute_reply": "2021-12-20T19:24:01.871026Z",
     "shell.execute_reply.started": "2021-12-20T19:24:01.864085Z"
    }
   },
   "outputs": [
    {
     "data": {
      "text/plain": [
       "array(['NAmes', 'Gilbert', 'StoneBr', 'NWAmes', 'Somerst', 'BrDale',\n",
       "       'NPkVill', 'NridgHt', 'Blmngtn', 'NoRidge', 'SawyerW', 'Sawyer',\n",
       "       'Greens', 'BrkSide', 'OldTown', 'IDOTRR', 'ClearCr', 'SWISU',\n",
       "       'Edwards', 'CollgCr', 'Crawfor', 'Blueste', 'Mitchel', 'Timber',\n",
       "       'MeadowV', 'Veenker', 'GrnHill', 'Landmrk'], dtype=object)"
      ]
     },
     "execution_count": 48,
     "metadata": {},
     "output_type": "execute_result"
    }
   ],
   "source": [
    "df['Neighborhood'].unique()"
   ]
  },
  {
   "cell_type": "code",
   "execution_count": 49,
   "metadata": {
    "execution": {
     "iopub.execute_input": "2021-12-20T19:24:01.873917Z",
     "iopub.status.busy": "2021-12-20T19:24:01.873509Z",
     "iopub.status.idle": "2021-12-20T19:24:02.763452Z",
     "shell.execute_reply": "2021-12-20T19:24:02.762365Z",
     "shell.execute_reply.started": "2021-12-20T19:24:01.873874Z"
    }
   },
   "outputs": [
    {
     "data": {
      "text/plain": [
       "<AxesSubplot:xlabel='Lot Frontage', ylabel='Neighborhood'>"
      ]
     },
     "execution_count": 49,
     "metadata": {},
     "output_type": "execute_result"
    },
    {
     "data": {
      "image/png": "[encoded data removed]",
      "text/plain": [
       "<Figure size 576x864 with 1 Axes>"
      ]
     },
     "metadata": {
      "needs_background": "light"
     },
     "output_type": "display_data"
    }
   ],
   "source": [
    "plt.figure(figsize=(8,12))\n",
    "sns.boxplot(data=df, x='Lot Frontage', y='Neighborhood')"
   ]
  },
  {
   "cell_type": "code",
   "execution_count": 50,
   "metadata": {
    "execution": {
     "iopub.execute_input": "2021-12-20T19:24:02.76527Z",
     "iopub.status.busy": "2021-12-20T19:24:02.764912Z",
     "iopub.status.idle": "2021-12-20T19:24:02.774779Z",
     "shell.execute_reply": "2021-12-20T19:24:02.773261Z",
     "shell.execute_reply.started": "2021-12-20T19:24:02.765228Z"
    }
   },
   "outputs": [
    {
     "data": {
      "text/plain": [
       "<pandas.core.groupby.generic.SeriesGroupBy object at 0x000002710E479A30>"
      ]
     },
     "execution_count": 50,
     "metadata": {},
     "output_type": "execute_result"
    }
   ],
   "source": [
    "#Impute missing data based on other columns:\n",
    "\n",
    "df.groupby('Neighborhood')['Lot Frontage']"
   ]
  },
  {
   "cell_type": "code",
   "execution_count": 51,
   "metadata": {
    "execution": {
     "iopub.execute_input": "2021-12-20T19:24:02.77647Z",
     "iopub.status.busy": "2021-12-20T19:24:02.776043Z",
     "iopub.status.idle": "2021-12-20T19:24:02.791522Z",
     "shell.execute_reply": "2021-12-20T19:24:02.790287Z",
     "shell.execute_reply.started": "2021-12-20T19:24:02.776422Z"
    }
   },
   "outputs": [
    {
     "data": {
      "text/plain": [
       "Neighborhood\n",
       "Blmngtn    46.900000\n",
       "Blueste    27.300000\n",
       "BrDale     21.500000\n",
       "BrkSide    55.789474\n",
       "ClearCr    88.150000\n",
       "CollgCr    71.336364\n",
       "Crawfor    69.951807\n",
       "Edwards    64.794286\n",
       "Gilbert    74.207207\n",
       "Greens     41.000000\n",
       "GrnHill          NaN\n",
       "IDOTRR     62.383721\n",
       "Landmrk          NaN\n",
       "MeadowV    25.606061\n",
       "Mitchel    75.144444\n",
       "NAmes      75.210667\n",
       "NPkVill    28.142857\n",
       "NWAmes     81.517647\n",
       "NoRidge    91.629630\n",
       "NridgHt    84.184049\n",
       "OldTown    61.777293\n",
       "SWISU      59.068182\n",
       "Sawyer     74.551020\n",
       "SawyerW    70.669811\n",
       "Somerst    64.549383\n",
       "StoneBr    62.173913\n",
       "Timber     81.303571\n",
       "Veenker    72.000000\n",
       "Name: Lot Frontage, dtype: float64"
      ]
     },
     "execution_count": 51,
     "metadata": {},
     "output_type": "execute_result"
    }
   ],
   "source": [
    "df.groupby('Neighborhood')['Lot Frontage'].mean()"
   ]
  },
  {
   "cell_type": "code",
   "execution_count": 52,
   "metadata": {
    "execution": {
     "iopub.execute_input": "2021-12-20T19:24:02.793293Z",
     "iopub.status.busy": "2021-12-20T19:24:02.792951Z",
     "iopub.status.idle": "2021-12-20T19:24:02.826984Z",
     "shell.execute_reply": "2021-12-20T19:24:02.825585Z",
     "shell.execute_reply.started": "2021-12-20T19:24:02.793258Z"
    }
   },
   "outputs": [
    {
     "data": {
      "text/plain": [
       "0       141.000000\n",
       "1        80.000000\n",
       "2        81.000000\n",
       "3        93.000000\n",
       "4        74.000000\n",
       "           ...    \n",
       "2925     37.000000\n",
       "2926     75.144444\n",
       "2927     62.000000\n",
       "2928     77.000000\n",
       "2929     74.000000\n",
       "Name: Lot Frontage, Length: 2925, dtype: float64"
      ]
     },
     "execution_count": 52,
     "metadata": {},
     "output_type": "execute_result"
    }
   ],
   "source": [
    "df.groupby('Neighborhood')['Lot Frontage'].transform(lambda val: val.fillna(val.mean()))"
   ]
  },
  {
   "cell_type": "code",
   "execution_count": 53,
   "metadata": {
    "execution": {
     "iopub.execute_input": "2021-12-20T19:24:02.829409Z",
     "iopub.status.busy": "2021-12-20T19:24:02.828841Z",
     "iopub.status.idle": "2021-12-20T19:24:02.850816Z",
     "shell.execute_reply": "2021-12-20T19:24:02.849559Z",
     "shell.execute_reply.started": "2021-12-20T19:24:02.829361Z"
    }
   },
   "outputs": [],
   "source": [
    "df['Lot Frontage']=df.groupby('Neighborhood')['Lot Frontage'].transform(lambda val: val.fillna(val.mean()))"
   ]
  },
  {
   "cell_type": "code",
   "execution_count": 54,
   "metadata": {
    "execution": {
     "iopub.execute_input": "2021-12-20T19:24:02.854235Z",
     "iopub.status.busy": "2021-12-20T19:24:02.8534Z",
     "iopub.status.idle": "2021-12-20T19:24:03.000976Z",
     "shell.execute_reply": "2021-12-20T19:24:03.00019Z",
     "shell.execute_reply.started": "2021-12-20T19:24:02.854172Z"
    }
   },
   "outputs": [
    {
     "data": {
      "text/plain": [
       "(array([0]), [Text(0, 0, 'Lot Frontage')])"
      ]
     },
     "execution_count": 54,
     "metadata": {},
     "output_type": "execute_result"
    },
    {
     "data": {
      "image/png": "[encoded data removed]",
      "text/plain": [
       "<Figure size 864x432 with 1 Axes>"
      ]
     },
     "metadata": {
      "needs_background": "light"
     },
     "output_type": "display_data"
    }
   ],
   "source": [
    "nan_percent= missing_percent(df)\n",
    "\n",
    "plt.figure(figsize=(12,6))\n",
    "sns.barplot(x=nan_percent.index, y=nan_percent)\n",
    "plt.xticks(rotation=90)"
   ]
  },
  {
   "cell_type": "code",
   "execution_count": 55,
   "metadata": {
    "execution": {
     "iopub.execute_input": "2021-12-20T19:24:03.003337Z",
     "iopub.status.busy": "2021-12-20T19:24:03.002602Z",
     "iopub.status.idle": "2021-12-20T19:24:03.009807Z",
     "shell.execute_reply": "2021-12-20T19:24:03.008635Z",
     "shell.execute_reply.started": "2021-12-20T19:24:03.003289Z"
    }
   },
   "outputs": [],
   "source": [
    "df['Lot Frontage']= df['Lot Frontage'].fillna(0)"
   ]
  },
  {
   "cell_type": "code",
   "execution_count": 56,
   "metadata": {
    "execution": {
     "iopub.execute_input": "2021-12-20T19:24:03.011688Z",
     "iopub.status.busy": "2021-12-20T19:24:03.01136Z",
     "iopub.status.idle": "2021-12-20T19:24:03.039702Z",
     "shell.execute_reply": "2021-12-20T19:24:03.038455Z",
     "shell.execute_reply.started": "2021-12-20T19:24:03.011655Z"
    }
   },
   "outputs": [],
   "source": [
    "nan_percent= missing_percent(df)\n"
   ]
  },
  {
   "cell_type": "code",
   "execution_count": 57,
   "metadata": {
    "execution": {
     "iopub.execute_input": "2021-12-20T19:24:03.042362Z",
     "iopub.status.busy": "2021-12-20T19:24:03.042019Z",
     "iopub.status.idle": "2021-12-20T19:24:03.04898Z",
     "shell.execute_reply": "2021-12-20T19:24:03.047971Z",
     "shell.execute_reply.started": "2021-12-20T19:24:03.042329Z"
    }
   },
   "outputs": [
    {
     "data": {
      "text/plain": [
       "Series([], dtype: float64)"
      ]
     },
     "execution_count": 57,
     "metadata": {},
     "output_type": "execute_result"
    }
   ],
   "source": [
    "nan_percent"
   ]
  },
  {
   "cell_type": "markdown",
   "metadata": {},
   "source": [
    "**We don't have any Missing Data**"
   ]
  },
  {
   "cell_type": "markdown",
   "metadata": {},
   "source": [
    "## 3-Dealing with Categorical Data"
   ]
  },
  {
   "cell_type": "markdown",
   "metadata": {},
   "source": [
    "#### A- Numerical Columns to Categorical\n",
    "We need to be careful when it comes to encoding categorical as numbers. We want to make sure that the numerical relationship makes sense for model. For example, the encoding MSSubClass is essentially just a code per class"
   ]
  },
  {
   "cell_type": "code",
   "execution_count": 58,
   "metadata": {
    "execution": {
     "iopub.execute_input": "2021-12-20T19:24:03.05117Z",
     "iopub.status.busy": "2021-12-20T19:24:03.050492Z",
     "iopub.status.idle": "2021-12-20T19:24:03.06618Z",
     "shell.execute_reply": "2021-12-20T19:24:03.065031Z",
     "shell.execute_reply.started": "2021-12-20T19:24:03.051116Z"
    }
   },
   "outputs": [
    {
     "data": {
      "text/plain": [
       "0       20\n",
       "1       20\n",
       "2       20\n",
       "3       20\n",
       "4       60\n",
       "        ..\n",
       "2925    80\n",
       "2926    20\n",
       "2927    85\n",
       "2928    20\n",
       "2929    60\n",
       "Name: MS SubClass, Length: 2925, dtype: int64"
      ]
     },
     "execution_count": 58,
     "metadata": {},
     "output_type": "execute_result"
    }
   ],
   "source": [
    "df['MS SubClass']"
   ]
  },
  {
   "cell_type": "code",
   "execution_count": 59,
   "metadata": {
    "execution": {
     "iopub.execute_input": "2021-12-20T19:24:03.068459Z",
     "iopub.status.busy": "2021-12-20T19:24:03.067818Z",
     "iopub.status.idle": "2021-12-20T19:24:03.105877Z",
     "shell.execute_reply": "2021-12-20T19:24:03.104576Z",
     "shell.execute_reply.started": "2021-12-20T19:24:03.068405Z"
    }
   },
   "outputs": [
    {
     "name": "stdout",
     "output_type": "stream",
     "text": [
      "<class 'pandas.core.frame.DataFrame'>\n",
      "Int64Index: 2925 entries, 0 to 2929\n",
      "Data columns (total 76 columns):\n",
      " #   Column           Non-Null Count  Dtype  \n",
      "---  ------           --------------  -----  \n",
      " 0   MS SubClass      2925 non-null   int64  \n",
      " 1   MS Zoning        2925 non-null   object \n",
      " 2   Lot Frontage     2925 non-null   float64\n",
      " 3   Lot Area         2925 non-null   int64  \n",
      " 4   Street           2925 non-null   object \n",
      " 5   Lot Shape        2925 non-null   object \n",
      " 6   Land Contour     2925 non-null   object \n",
      " 7   Utilities        2925 non-null   object \n",
      " 8   Lot Config       2925 non-null   object \n",
      " 9   Land Slope       2925 non-null   object \n",
      " 10  Neighborhood     2925 non-null   object \n",
      " 11  Condition 1      2925 non-null   object \n",
      " 12  Condition 2      2925 non-null   object \n",
      " 13  Bldg Type        2925 non-null   object \n",
      " 14  House Style      2925 non-null   object \n",
      " 15  Overall Qual     2925 non-null   int64  \n",
      " 16  Overall Cond     2925 non-null   int64  \n",
      " 17  Year Built       2925 non-null   int64  \n",
      " 18  Year Remod/Add   2925 non-null   int64  \n",
      " 19  Roof Style       2925 non-null   object \n",
      " 20  Roof Matl        2925 non-null   object \n",
      " 21  Exterior 1st     2925 non-null   object \n",
      " 22  Exterior 2nd     2925 non-null   object \n",
      " 23  Mas Vnr Type     2925 non-null   object \n",
      " 24  Mas Vnr Area     2925 non-null   float64\n",
      " 25  Exter Qual       2925 non-null   object \n",
      " 26  Exter Cond       2925 non-null   object \n",
      " 27  Foundation       2925 non-null   object \n",
      " 28  Bsmt Qual        2925 non-null   object \n",
      " 29  Bsmt Cond        2925 non-null   object \n",
      " 30  Bsmt Exposure    2925 non-null   object \n",
      " 31  BsmtFin Type 1   2925 non-null   object \n",
      " 32  BsmtFin SF 1     2925 non-null   float64\n",
      " 33  BsmtFin Type 2   2925 non-null   object \n",
      " 34  BsmtFin SF 2     2925 non-null   float64\n",
      " 35  Bsmt Unf SF      2925 non-null   float64\n",
      " 36  Total Bsmt SF    2925 non-null   float64\n",
      " 37  Heating          2925 non-null   object \n",
      " 38  Heating QC       2925 non-null   object \n",
      " 39  Central Air      2925 non-null   object \n",
      " 40  Electrical       2925 non-null   object \n",
      " 41  1st Flr SF       2925 non-null   int64  \n",
      " 42  2nd Flr SF       2925 non-null   int64  \n",
      " 43  Low Qual Fin SF  2925 non-null   int64  \n",
      " 44  Gr Liv Area      2925 non-null   int64  \n",
      " 45  Bsmt Full Bath   2925 non-null   float64\n",
      " 46  Bsmt Half Bath   2925 non-null   float64\n",
      " 47  Full Bath        2925 non-null   int64  \n",
      " 48  Half Bath        2925 non-null   int64  \n",
      " 49  Bedroom AbvGr    2925 non-null   int64  \n",
      " 50  Kitchen AbvGr    2925 non-null   int64  \n",
      " 51  Kitchen Qual     2925 non-null   object \n",
      " 52  TotRms AbvGrd    2925 non-null   int64  \n",
      " 53  Functional       2925 non-null   object \n",
      " 54  Fireplaces       2925 non-null   int64  \n",
      " 55  Fireplace Qu     2925 non-null   object \n",
      " 56  Garage Type      2925 non-null   object \n",
      " 57  Garage Yr Blt    2925 non-null   float64\n",
      " 58  Garage Finish    2925 non-null   object \n",
      " 59  Garage Cars      2925 non-null   float64\n",
      " 60  Garage Area      2925 non-null   float64\n",
      " 61  Garage Qual      2925 non-null   object \n",
      " 62  Garage Cond      2925 non-null   object \n",
      " 63  Paved Drive      2925 non-null   object \n",
      " 64  Wood Deck SF     2925 non-null   int64  \n",
      " 65  Open Porch SF    2925 non-null   int64  \n",
      " 66  Enclosed Porch   2925 non-null   int64  \n",
      " 67  3Ssn Porch       2925 non-null   int64  \n",
      " 68  Screen Porch     2925 non-null   int64  \n",
      " 69  Pool Area        2925 non-null   int64  \n",
      " 70  Misc Val         2925 non-null   int64  \n",
      " 71  Mo Sold          2925 non-null   int64  \n",
      " 72  Yr Sold          2925 non-null   int64  \n",
      " 73  Sale Type        2925 non-null   object \n",
      " 74  Sale Condition   2925 non-null   object \n",
      " 75  SalePrice        2925 non-null   int64  \n",
      "dtypes: float64(11), int64(26), object(39)\n",
      "memory usage: 1.8+ MB\n"
     ]
    }
   ],
   "source": [
    "df.info()"
   ]
  },
  {
   "cell_type": "code",
   "execution_count": 60,
   "metadata": {
    "execution": {
     "iopub.execute_input": "2021-12-20T19:24:03.108287Z",
     "iopub.status.busy": "2021-12-20T19:24:03.107649Z",
     "iopub.status.idle": "2021-12-20T19:24:03.117505Z",
     "shell.execute_reply": "2021-12-20T19:24:03.116165Z",
     "shell.execute_reply.started": "2021-12-20T19:24:03.108239Z"
    }
   },
   "outputs": [
    {
     "data": {
      "text/plain": [
       "array([ 20,  60, 120,  50,  85, 160,  80,  30,  90, 190,  45,  70,  75,\n",
       "        40, 180, 150], dtype=int64)"
      ]
     },
     "execution_count": 60,
     "metadata": {},
     "output_type": "execute_result"
    }
   ],
   "source": [
    "df['MS SubClass'].unique()"
   ]
  },
  {
   "cell_type": "code",
   "execution_count": 61,
   "metadata": {
    "execution": {
     "iopub.execute_input": "2021-12-20T19:24:03.119606Z",
     "iopub.status.busy": "2021-12-20T19:24:03.1189Z",
     "iopub.status.idle": "2021-12-20T19:24:03.129885Z",
     "shell.execute_reply": "2021-12-20T19:24:03.128983Z",
     "shell.execute_reply.started": "2021-12-20T19:24:03.119564Z"
    }
   },
   "outputs": [],
   "source": [
    "#Convert to String:\n",
    "df['MS SubClass']= df['MS SubClass'].apply(str)"
   ]
  },
  {
   "cell_type": "code",
   "execution_count": 62,
   "metadata": {
    "execution": {
     "iopub.execute_input": "2021-12-20T19:24:03.131841Z",
     "iopub.status.busy": "2021-12-20T19:24:03.131439Z",
     "iopub.status.idle": "2021-12-20T19:24:03.169359Z",
     "shell.execute_reply": "2021-12-20T19:24:03.168521Z",
     "shell.execute_reply.started": "2021-12-20T19:24:03.131806Z"
    }
   },
   "outputs": [
    {
     "name": "stdout",
     "output_type": "stream",
     "text": [
      "<class 'pandas.core.frame.DataFrame'>\n",
      "Int64Index: 2925 entries, 0 to 2929\n",
      "Data columns (total 76 columns):\n",
      " #   Column           Non-Null Count  Dtype  \n",
      "---  ------           --------------  -----  \n",
      " 0   MS SubClass      2925 non-null   object \n",
      " 1   MS Zoning        2925 non-null   object \n",
      " 2   Lot Frontage     2925 non-null   float64\n",
      " 3   Lot Area         2925 non-null   int64  \n",
      " 4   Street           2925 non-null   object \n",
      " 5   Lot Shape        2925 non-null   object \n",
      " 6   Land Contour     2925 non-null   object \n",
      " 7   Utilities        2925 non-null   object \n",
      " 8   Lot Config       2925 non-null   object \n",
      " 9   Land Slope       2925 non-null   object \n",
      " 10  Neighborhood     2925 non-null   object \n",
      " 11  Condition 1      2925 non-null   object \n",
      " 12  Condition 2      2925 non-null   object \n",
      " 13  Bldg Type        2925 non-null   object \n",
      " 14  House Style      2925 non-null   object \n",
      " 15  Overall Qual     2925 non-null   int64  \n",
      " 16  Overall Cond     2925 non-null   int64  \n",
      " 17  Year Built       2925 non-null   int64  \n",
      " 18  Year Remod/Add   2925 non-null   int64  \n",
      " 19  Roof Style       2925 non-null   object \n",
      " 20  Roof Matl        2925 non-null   object \n",
      " 21  Exterior 1st     2925 non-null   object \n",
      " 22  Exterior 2nd     2925 non-null   object \n",
      " 23  Mas Vnr Type     2925 non-null   object \n",
      " 24  Mas Vnr Area     2925 non-null   float64\n",
      " 25  Exter Qual       2925 non-null   object \n",
      " 26  Exter Cond       2925 non-null   object \n",
      " 27  Foundation       2925 non-null   object \n",
      " 28  Bsmt Qual        2925 non-null   object \n",
      " 29  Bsmt Cond        2925 non-null   object \n",
      " 30  Bsmt Exposure    2925 non-null   object \n",
      " 31  BsmtFin Type 1   2925 non-null   object \n",
      " 32  BsmtFin SF 1     2925 non-null   float64\n",
      " 33  BsmtFin Type 2   2925 non-null   object \n",
      " 34  BsmtFin SF 2     2925 non-null   float64\n",
      " 35  Bsmt Unf SF      2925 non-null   float64\n",
      " 36  Total Bsmt SF    2925 non-null   float64\n",
      " 37  Heating          2925 non-null   object \n",
      " 38  Heating QC       2925 non-null   object \n",
      " 39  Central Air      2925 non-null   object \n",
      " 40  Electrical       2925 non-null   object \n",
      " 41  1st Flr SF       2925 non-null   int64  \n",
      " 42  2nd Flr SF       2925 non-null   int64  \n",
      " 43  Low Qual Fin SF  2925 non-null   int64  \n",
      " 44  Gr Liv Area      2925 non-null   int64  \n",
      " 45  Bsmt Full Bath   2925 non-null   float64\n",
      " 46  Bsmt Half Bath   2925 non-null   float64\n",
      " 47  Full Bath        2925 non-null   int64  \n",
      " 48  Half Bath        2925 non-null   int64  \n",
      " 49  Bedroom AbvGr    2925 non-null   int64  \n",
      " 50  Kitchen AbvGr    2925 non-null   int64  \n",
      " 51  Kitchen Qual     2925 non-null   object \n",
      " 52  TotRms AbvGrd    2925 non-null   int64  \n",
      " 53  Functional       2925 non-null   object \n",
      " 54  Fireplaces       2925 non-null   int64  \n",
      " 55  Fireplace Qu     2925 non-null   object \n",
      " 56  Garage Type      2925 non-null   object \n",
      " 57  Garage Yr Blt    2925 non-null   float64\n",
      " 58  Garage Finish    2925 non-null   object \n",
      " 59  Garage Cars      2925 non-null   float64\n",
      " 60  Garage Area      2925 non-null   float64\n",
      " 61  Garage Qual      2925 non-null   object \n",
      " 62  Garage Cond      2925 non-null   object \n",
      " 63  Paved Drive      2925 non-null   object \n",
      " 64  Wood Deck SF     2925 non-null   int64  \n",
      " 65  Open Porch SF    2925 non-null   int64  \n",
      " 66  Enclosed Porch   2925 non-null   int64  \n",
      " 67  3Ssn Porch       2925 non-null   int64  \n",
      " 68  Screen Porch     2925 non-null   int64  \n",
      " 69  Pool Area        2925 non-null   int64  \n",
      " 70  Misc Val         2925 non-null   int64  \n",
      " 71  Mo Sold          2925 non-null   int64  \n",
      " 72  Yr Sold          2925 non-null   int64  \n",
      " 73  Sale Type        2925 non-null   object \n",
      " 74  Sale Condition   2925 non-null   object \n",
      " 75  SalePrice        2925 non-null   int64  \n",
      "dtypes: float64(11), int64(25), object(40)\n",
      "memory usage: 1.8+ MB\n"
     ]
    }
   ],
   "source": [
    "\n",
    "df.info()\n",
    "#or: df['MS SubClass'].dtype"
   ]
  },
  {
   "cell_type": "markdown",
   "metadata": {},
   "source": [
    "### B- Creating Dummy Variables"
   ]
  },
  {
   "cell_type": "code",
   "execution_count": 63,
   "metadata": {
    "execution": {
     "iopub.execute_input": "2021-12-20T19:24:03.17124Z",
     "iopub.status.busy": "2021-12-20T19:24:03.170699Z",
     "iopub.status.idle": "2021-12-20T19:24:03.21116Z",
     "shell.execute_reply": "2021-12-20T19:24:03.210066Z",
     "shell.execute_reply.started": "2021-12-20T19:24:03.171182Z"
    }
   },
   "outputs": [
    {
     "data": {
      "text/html": [
       "<div>\n",
       "<style scoped>\n",
       "    .dataframe tbody tr th:only-of-type {\n",
       "        vertical-align: middle;\n",
       "    }\n",
       "\n",
       "    .dataframe tbody tr th {\n",
       "        vertical-align: top;\n",
       "    }\n",
       "\n",
       "    .dataframe thead th {\n",
       "        text-align: right;\n",
       "    }\n",
       "</style>\n",
       "<table border=\"1\" class=\"dataframe\">\n",
       "  <thead>\n",
       "    <tr style=\"text-align: right;\">\n",
       "      <th></th>\n",
       "      <th>MS SubClass</th>\n",
       "      <th>MS Zoning</th>\n",
       "      <th>Street</th>\n",
       "      <th>Lot Shape</th>\n",
       "      <th>Land Contour</th>\n",
       "      <th>Utilities</th>\n",
       "      <th>Lot Config</th>\n",
       "      <th>Land Slope</th>\n",
       "      <th>Neighborhood</th>\n",
       "      <th>Condition 1</th>\n",
       "      <th>...</th>\n",
       "      <th>Kitchen Qual</th>\n",
       "      <th>Functional</th>\n",
       "      <th>Fireplace Qu</th>\n",
       "      <th>Garage Type</th>\n",
       "      <th>Garage Finish</th>\n",
       "      <th>Garage Qual</th>\n",
       "      <th>Garage Cond</th>\n",
       "      <th>Paved Drive</th>\n",
       "      <th>Sale Type</th>\n",
       "      <th>Sale Condition</th>\n",
       "    </tr>\n",
       "  </thead>\n",
       "  <tbody>\n",
       "    <tr>\n",
       "      <th>0</th>\n",
       "      <td>20</td>\n",
       "      <td>RL</td>\n",
       "      <td>Pave</td>\n",
       "      <td>IR1</td>\n",
       "      <td>Lvl</td>\n",
       "      <td>AllPub</td>\n",
       "      <td>Corner</td>\n",
       "      <td>Gtl</td>\n",
       "      <td>NAmes</td>\n",
       "      <td>Norm</td>\n",
       "      <td>...</td>\n",
       "      <td>TA</td>\n",
       "      <td>Typ</td>\n",
       "      <td>Gd</td>\n",
       "      <td>Attchd</td>\n",
       "      <td>Fin</td>\n",
       "      <td>TA</td>\n",
       "      <td>TA</td>\n",
       "      <td>P</td>\n",
       "      <td>WD</td>\n",
       "      <td>Normal</td>\n",
       "    </tr>\n",
       "    <tr>\n",
       "      <th>1</th>\n",
       "      <td>20</td>\n",
       "      <td>RH</td>\n",
       "      <td>Pave</td>\n",
       "      <td>Reg</td>\n",
       "      <td>Lvl</td>\n",
       "      <td>AllPub</td>\n",
       "      <td>Inside</td>\n",
       "      <td>Gtl</td>\n",
       "      <td>NAmes</td>\n",
       "      <td>Feedr</td>\n",
       "      <td>...</td>\n",
       "      <td>TA</td>\n",
       "      <td>Typ</td>\n",
       "      <td>None</td>\n",
       "      <td>Attchd</td>\n",
       "      <td>Unf</td>\n",
       "      <td>TA</td>\n",
       "      <td>TA</td>\n",
       "      <td>Y</td>\n",
       "      <td>WD</td>\n",
       "      <td>Normal</td>\n",
       "    </tr>\n",
       "    <tr>\n",
       "      <th>2</th>\n",
       "      <td>20</td>\n",
       "      <td>RL</td>\n",
       "      <td>Pave</td>\n",
       "      <td>IR1</td>\n",
       "      <td>Lvl</td>\n",
       "      <td>AllPub</td>\n",
       "      <td>Corner</td>\n",
       "      <td>Gtl</td>\n",
       "      <td>NAmes</td>\n",
       "      <td>Norm</td>\n",
       "      <td>...</td>\n",
       "      <td>Gd</td>\n",
       "      <td>Typ</td>\n",
       "      <td>None</td>\n",
       "      <td>Attchd</td>\n",
       "      <td>Unf</td>\n",
       "      <td>TA</td>\n",
       "      <td>TA</td>\n",
       "      <td>Y</td>\n",
       "      <td>WD</td>\n",
       "      <td>Normal</td>\n",
       "    </tr>\n",
       "    <tr>\n",
       "      <th>3</th>\n",
       "      <td>20</td>\n",
       "      <td>RL</td>\n",
       "      <td>Pave</td>\n",
       "      <td>Reg</td>\n",
       "      <td>Lvl</td>\n",
       "      <td>AllPub</td>\n",
       "      <td>Corner</td>\n",
       "      <td>Gtl</td>\n",
       "      <td>NAmes</td>\n",
       "      <td>Norm</td>\n",
       "      <td>...</td>\n",
       "      <td>Ex</td>\n",
       "      <td>Typ</td>\n",
       "      <td>TA</td>\n",
       "      <td>Attchd</td>\n",
       "      <td>Fin</td>\n",
       "      <td>TA</td>\n",
       "      <td>TA</td>\n",
       "      <td>Y</td>\n",
       "      <td>WD</td>\n",
       "      <td>Normal</td>\n",
       "    </tr>\n",
       "    <tr>\n",
       "      <th>4</th>\n",
       "      <td>60</td>\n",
       "      <td>RL</td>\n",
       "      <td>Pave</td>\n",
       "      <td>IR1</td>\n",
       "      <td>Lvl</td>\n",
       "      <td>AllPub</td>\n",
       "      <td>Inside</td>\n",
       "      <td>Gtl</td>\n",
       "      <td>Gilbert</td>\n",
       "      <td>Norm</td>\n",
       "      <td>...</td>\n",
       "      <td>TA</td>\n",
       "      <td>Typ</td>\n",
       "      <td>TA</td>\n",
       "      <td>Attchd</td>\n",
       "      <td>Fin</td>\n",
       "      <td>TA</td>\n",
       "      <td>TA</td>\n",
       "      <td>Y</td>\n",
       "      <td>WD</td>\n",
       "      <td>Normal</td>\n",
       "    </tr>\n",
       "    <tr>\n",
       "      <th>...</th>\n",
       "      <td>...</td>\n",
       "      <td>...</td>\n",
       "      <td>...</td>\n",
       "      <td>...</td>\n",
       "      <td>...</td>\n",
       "      <td>...</td>\n",
       "      <td>...</td>\n",
       "      <td>...</td>\n",
       "      <td>...</td>\n",
       "      <td>...</td>\n",
       "      <td>...</td>\n",
       "      <td>...</td>\n",
       "      <td>...</td>\n",
       "      <td>...</td>\n",
       "      <td>...</td>\n",
       "      <td>...</td>\n",
       "      <td>...</td>\n",
       "      <td>...</td>\n",
       "      <td>...</td>\n",
       "      <td>...</td>\n",
       "      <td>...</td>\n",
       "    </tr>\n",
       "    <tr>\n",
       "      <th>2925</th>\n",
       "      <td>80</td>\n",
       "      <td>RL</td>\n",
       "      <td>Pave</td>\n",
       "      <td>IR1</td>\n",
       "      <td>Lvl</td>\n",
       "      <td>AllPub</td>\n",
       "      <td>CulDSac</td>\n",
       "      <td>Gtl</td>\n",
       "      <td>Mitchel</td>\n",
       "      <td>Norm</td>\n",
       "      <td>...</td>\n",
       "      <td>TA</td>\n",
       "      <td>Typ</td>\n",
       "      <td>None</td>\n",
       "      <td>Detchd</td>\n",
       "      <td>Unf</td>\n",
       "      <td>TA</td>\n",
       "      <td>TA</td>\n",
       "      <td>Y</td>\n",
       "      <td>WD</td>\n",
       "      <td>Normal</td>\n",
       "    </tr>\n",
       "    <tr>\n",
       "      <th>2926</th>\n",
       "      <td>20</td>\n",
       "      <td>RL</td>\n",
       "      <td>Pave</td>\n",
       "      <td>IR1</td>\n",
       "      <td>Low</td>\n",
       "      <td>AllPub</td>\n",
       "      <td>Inside</td>\n",
       "      <td>Mod</td>\n",
       "      <td>Mitchel</td>\n",
       "      <td>Norm</td>\n",
       "      <td>...</td>\n",
       "      <td>TA</td>\n",
       "      <td>Typ</td>\n",
       "      <td>None</td>\n",
       "      <td>Attchd</td>\n",
       "      <td>Unf</td>\n",
       "      <td>TA</td>\n",
       "      <td>TA</td>\n",
       "      <td>Y</td>\n",
       "      <td>WD</td>\n",
       "      <td>Normal</td>\n",
       "    </tr>\n",
       "    <tr>\n",
       "      <th>2927</th>\n",
       "      <td>85</td>\n",
       "      <td>RL</td>\n",
       "      <td>Pave</td>\n",
       "      <td>Reg</td>\n",
       "      <td>Lvl</td>\n",
       "      <td>AllPub</td>\n",
       "      <td>Inside</td>\n",
       "      <td>Gtl</td>\n",
       "      <td>Mitchel</td>\n",
       "      <td>Norm</td>\n",
       "      <td>...</td>\n",
       "      <td>TA</td>\n",
       "      <td>Typ</td>\n",
       "      <td>None</td>\n",
       "      <td>None</td>\n",
       "      <td>None</td>\n",
       "      <td>None</td>\n",
       "      <td>None</td>\n",
       "      <td>Y</td>\n",
       "      <td>WD</td>\n",
       "      <td>Normal</td>\n",
       "    </tr>\n",
       "    <tr>\n",
       "      <th>2928</th>\n",
       "      <td>20</td>\n",
       "      <td>RL</td>\n",
       "      <td>Pave</td>\n",
       "      <td>Reg</td>\n",
       "      <td>Lvl</td>\n",
       "      <td>AllPub</td>\n",
       "      <td>Inside</td>\n",
       "      <td>Mod</td>\n",
       "      <td>Mitchel</td>\n",
       "      <td>Norm</td>\n",
       "      <td>...</td>\n",
       "      <td>TA</td>\n",
       "      <td>Typ</td>\n",
       "      <td>TA</td>\n",
       "      <td>Attchd</td>\n",
       "      <td>RFn</td>\n",
       "      <td>TA</td>\n",
       "      <td>TA</td>\n",
       "      <td>Y</td>\n",
       "      <td>WD</td>\n",
       "      <td>Normal</td>\n",
       "    </tr>\n",
       "    <tr>\n",
       "      <th>2929</th>\n",
       "      <td>60</td>\n",
       "      <td>RL</td>\n",
       "      <td>Pave</td>\n",
       "      <td>Reg</td>\n",
       "      <td>Lvl</td>\n",
       "      <td>AllPub</td>\n",
       "      <td>Inside</td>\n",
       "      <td>Mod</td>\n",
       "      <td>Mitchel</td>\n",
       "      <td>Norm</td>\n",
       "      <td>...</td>\n",
       "      <td>TA</td>\n",
       "      <td>Typ</td>\n",
       "      <td>TA</td>\n",
       "      <td>Attchd</td>\n",
       "      <td>Fin</td>\n",
       "      <td>TA</td>\n",
       "      <td>TA</td>\n",
       "      <td>Y</td>\n",
       "      <td>WD</td>\n",
       "      <td>Normal</td>\n",
       "    </tr>\n",
       "  </tbody>\n",
       "</table>\n",
       "<p>2925 rows × 40 columns</p>\n",
       "</div>"
      ],
      "text/plain": [
       "     MS SubClass MS Zoning Street Lot Shape Land Contour Utilities Lot Config  \\\n",
       "0             20        RL   Pave       IR1          Lvl    AllPub     Corner   \n",
       "1             20        RH   Pave       Reg          Lvl    AllPub     Inside   \n",
       "2             20        RL   Pave       IR1          Lvl    AllPub     Corner   \n",
       "3             20        RL   Pave       Reg          Lvl    AllPub     Corner   \n",
       "4             60        RL   Pave       IR1          Lvl    AllPub     Inside   \n",
       "...          ...       ...    ...       ...          ...       ...        ...   \n",
       "2925          80        RL   Pave       IR1          Lvl    AllPub    CulDSac   \n",
       "2926          20        RL   Pave       IR1          Low    AllPub     Inside   \n",
       "2927          85        RL   Pave       Reg          Lvl    AllPub     Inside   \n",
       "2928          20        RL   Pave       Reg          Lvl    AllPub     Inside   \n",
       "2929          60        RL   Pave       Reg          Lvl    AllPub     Inside   \n",
       "\n",
       "     Land Slope Neighborhood Condition 1  ... Kitchen Qual Functional  \\\n",
       "0           Gtl        NAmes        Norm  ...           TA        Typ   \n",
       "1           Gtl        NAmes       Feedr  ...           TA        Typ   \n",
       "2           Gtl        NAmes        Norm  ...           Gd        Typ   \n",
       "3           Gtl        NAmes        Norm  ...           Ex        Typ   \n",
       "4           Gtl      Gilbert        Norm  ...           TA        Typ   \n",
       "...         ...          ...         ...  ...          ...        ...   \n",
       "2925        Gtl      Mitchel        Norm  ...           TA        Typ   \n",
       "2926        Mod      Mitchel        Norm  ...           TA        Typ   \n",
       "2927        Gtl      Mitchel        Norm  ...           TA        Typ   \n",
       "2928        Mod      Mitchel        Norm  ...           TA        Typ   \n",
       "2929        Mod      Mitchel        Norm  ...           TA        Typ   \n",
       "\n",
       "     Fireplace Qu Garage Type Garage Finish Garage Qual Garage Cond  \\\n",
       "0              Gd      Attchd           Fin          TA          TA   \n",
       "1            None      Attchd           Unf          TA          TA   \n",
       "2            None      Attchd           Unf          TA          TA   \n",
       "3              TA      Attchd           Fin          TA          TA   \n",
       "4              TA      Attchd           Fin          TA          TA   \n",
       "...           ...         ...           ...         ...         ...   \n",
       "2925         None      Detchd           Unf          TA          TA   \n",
       "2926         None      Attchd           Unf          TA          TA   \n",
       "2927         None        None          None        None        None   \n",
       "2928           TA      Attchd           RFn          TA          TA   \n",
       "2929           TA      Attchd           Fin          TA          TA   \n",
       "\n",
       "     Paved Drive Sale Type Sale Condition  \n",
       "0              P       WD          Normal  \n",
       "1              Y       WD          Normal  \n",
       "2              Y       WD          Normal  \n",
       "3              Y       WD          Normal  \n",
       "4              Y       WD          Normal  \n",
       "...          ...       ...            ...  \n",
       "2925           Y       WD          Normal  \n",
       "2926           Y       WD          Normal  \n",
       "2927           Y       WD          Normal  \n",
       "2928           Y       WD          Normal  \n",
       "2929           Y       WD          Normal  \n",
       "\n",
       "[2925 rows x 40 columns]"
      ]
     },
     "execution_count": 63,
     "metadata": {},
     "output_type": "execute_result"
    }
   ],
   "source": [
    "df.select_dtypes(include='object')"
   ]
  },
  {
   "cell_type": "code",
   "execution_count": 64,
   "metadata": {
    "execution": {
     "iopub.execute_input": "2021-12-20T19:24:03.212999Z",
     "iopub.status.busy": "2021-12-20T19:24:03.212664Z",
     "iopub.status.idle": "2021-12-20T19:24:03.222735Z",
     "shell.execute_reply": "2021-12-20T19:24:03.221344Z",
     "shell.execute_reply.started": "2021-12-20T19:24:03.212966Z"
    }
   },
   "outputs": [],
   "source": [
    "df_num= df.select_dtypes(exclude='object')\n",
    "df_obj= df.select_dtypes(include='object')"
   ]
  },
  {
   "cell_type": "code",
   "execution_count": 65,
   "metadata": {
    "execution": {
     "iopub.execute_input": "2021-12-20T19:24:03.224852Z",
     "iopub.status.busy": "2021-12-20T19:24:03.224341Z",
     "iopub.status.idle": "2021-12-20T19:24:03.249486Z",
     "shell.execute_reply": "2021-12-20T19:24:03.247896Z",
     "shell.execute_reply.started": "2021-12-20T19:24:03.224817Z"
    }
   },
   "outputs": [
    {
     "name": "stdout",
     "output_type": "stream",
     "text": [
      "<class 'pandas.core.frame.DataFrame'>\n",
      "Int64Index: 2925 entries, 0 to 2929\n",
      "Data columns (total 36 columns):\n",
      " #   Column           Non-Null Count  Dtype  \n",
      "---  ------           --------------  -----  \n",
      " 0   Lot Frontage     2925 non-null   float64\n",
      " 1   Lot Area         2925 non-null   int64  \n",
      " 2   Overall Qual     2925 non-null   int64  \n",
      " 3   Overall Cond     2925 non-null   int64  \n",
      " 4   Year Built       2925 non-null   int64  \n",
      " 5   Year Remod/Add   2925 non-null   int64  \n",
      " 6   Mas Vnr Area     2925 non-null   float64\n",
      " 7   BsmtFin SF 1     2925 non-null   float64\n",
      " 8   BsmtFin SF 2     2925 non-null   float64\n",
      " 9   Bsmt Unf SF      2925 non-null   float64\n",
      " 10  Total Bsmt SF    2925 non-null   float64\n",
      " 11  1st Flr SF       2925 non-null   int64  \n",
      " 12  2nd Flr SF       2925 non-null   int64  \n",
      " 13  Low Qual Fin SF  2925 non-null   int64  \n",
      " 14  Gr Liv Area      2925 non-null   int64  \n",
      " 15  Bsmt Full Bath   2925 non-null   float64\n",
      " 16  Bsmt Half Bath   2925 non-null   float64\n",
      " 17  Full Bath        2925 non-null   int64  \n",
      " 18  Half Bath        2925 non-null   int64  \n",
      " 19  Bedroom AbvGr    2925 non-null   int64  \n",
      " 20  Kitchen AbvGr    2925 non-null   int64  \n",
      " 21  TotRms AbvGrd    2925 non-null   int64  \n",
      " 22  Fireplaces       2925 non-null   int64  \n",
      " 23  Garage Yr Blt    2925 non-null   float64\n",
      " 24  Garage Cars      2925 non-null   float64\n",
      " 25  Garage Area      2925 non-null   float64\n",
      " 26  Wood Deck SF     2925 non-null   int64  \n",
      " 27  Open Porch SF    2925 non-null   int64  \n",
      " 28  Enclosed Porch   2925 non-null   int64  \n",
      " 29  3Ssn Porch       2925 non-null   int64  \n",
      " 30  Screen Porch     2925 non-null   int64  \n",
      " 31  Pool Area        2925 non-null   int64  \n",
      " 32  Misc Val         2925 non-null   int64  \n",
      " 33  Mo Sold          2925 non-null   int64  \n",
      " 34  Yr Sold          2925 non-null   int64  \n",
      " 35  SalePrice        2925 non-null   int64  \n",
      "dtypes: float64(11), int64(25)\n",
      "memory usage: 910.0 KB\n"
     ]
    }
   ],
   "source": [
    "df_num.info()"
   ]
  },
  {
   "cell_type": "code",
   "execution_count": 66,
   "metadata": {
    "execution": {
     "iopub.execute_input": "2021-12-20T19:24:03.25172Z",
     "iopub.status.busy": "2021-12-20T19:24:03.251381Z",
     "iopub.status.idle": "2021-12-20T19:24:03.281813Z",
     "shell.execute_reply": "2021-12-20T19:24:03.280726Z",
     "shell.execute_reply.started": "2021-12-20T19:24:03.251683Z"
    }
   },
   "outputs": [
    {
     "name": "stdout",
     "output_type": "stream",
     "text": [
      "<class 'pandas.core.frame.DataFrame'>\n",
      "Int64Index: 2925 entries, 0 to 2929\n",
      "Data columns (total 40 columns):\n",
      " #   Column          Non-Null Count  Dtype \n",
      "---  ------          --------------  ----- \n",
      " 0   MS SubClass     2925 non-null   object\n",
      " 1   MS Zoning       2925 non-null   object\n",
      " 2   Street          2925 non-null   object\n",
      " 3   Lot Shape       2925 non-null   object\n",
      " 4   Land Contour    2925 non-null   object\n",
      " 5   Utilities       2925 non-null   object\n",
      " 6   Lot Config      2925 non-null   object\n",
      " 7   Land Slope      2925 non-null   object\n",
      " 8   Neighborhood    2925 non-null   object\n",
      " 9   Condition 1     2925 non-null   object\n",
      " 10  Condition 2     2925 non-null   object\n",
      " 11  Bldg Type       2925 non-null   object\n",
      " 12  House Style     2925 non-null   object\n",
      " 13  Roof Style      2925 non-null   object\n",
      " 14  Roof Matl       2925 non-null   object\n",
      " 15  Exterior 1st    2925 non-null   object\n",
      " 16  Exterior 2nd    2925 non-null   object\n",
      " 17  Mas Vnr Type    2925 non-null   object\n",
      " 18  Exter Qual      2925 non-null   object\n",
      " 19  Exter Cond      2925 non-null   object\n",
      " 20  Foundation      2925 non-null   object\n",
      " 21  Bsmt Qual       2925 non-null   object\n",
      " 22  Bsmt Cond       2925 non-null   object\n",
      " 23  Bsmt Exposure   2925 non-null   object\n",
      " 24  BsmtFin Type 1  2925 non-null   object\n",
      " 25  BsmtFin Type 2  2925 non-null   object\n",
      " 26  Heating         2925 non-null   object\n",
      " 27  Heating QC      2925 non-null   object\n",
      " 28  Central Air     2925 non-null   object\n",
      " 29  Electrical      2925 non-null   object\n",
      " 30  Kitchen Qual    2925 non-null   object\n",
      " 31  Functional      2925 non-null   object\n",
      " 32  Fireplace Qu    2925 non-null   object\n",
      " 33  Garage Type     2925 non-null   object\n",
      " 34  Garage Finish   2925 non-null   object\n",
      " 35  Garage Qual     2925 non-null   object\n",
      " 36  Garage Cond     2925 non-null   object\n",
      " 37  Paved Drive     2925 non-null   object\n",
      " 38  Sale Type       2925 non-null   object\n",
      " 39  Sale Condition  2925 non-null   object\n",
      "dtypes: object(40)\n",
      "memory usage: 1001.5+ KB\n"
     ]
    }
   ],
   "source": [
    "df_obj.info()"
   ]
  },
  {
   "cell_type": "code",
   "execution_count": 67,
   "metadata": {
    "execution": {
     "iopub.execute_input": "2021-12-20T19:24:03.287912Z",
     "iopub.status.busy": "2021-12-20T19:24:03.287564Z",
     "iopub.status.idle": "2021-12-20T19:24:03.346483Z",
     "shell.execute_reply": "2021-12-20T19:24:03.345165Z",
     "shell.execute_reply.started": "2021-12-20T19:24:03.287882Z"
    }
   },
   "outputs": [],
   "source": [
    "# Converting:\n",
    "df_obj= pd.get_dummies(df_obj, drop_first=True)"
   ]
  },
  {
   "cell_type": "code",
   "execution_count": 68,
   "metadata": {
    "execution": {
     "iopub.execute_input": "2021-12-20T19:24:03.348767Z",
     "iopub.status.busy": "2021-12-20T19:24:03.348419Z",
     "iopub.status.idle": "2021-12-20T19:24:03.35781Z",
     "shell.execute_reply": "2021-12-20T19:24:03.356865Z",
     "shell.execute_reply.started": "2021-12-20T19:24:03.348736Z"
    }
   },
   "outputs": [
    {
     "data": {
      "text/plain": [
       "(2925, 238)"
      ]
     },
     "execution_count": 68,
     "metadata": {},
     "output_type": "execute_result"
    }
   ],
   "source": [
    "df_obj.shape"
   ]
  },
  {
   "cell_type": "code",
   "execution_count": 69,
   "metadata": {
    "execution": {
     "iopub.execute_input": "2021-12-20T19:24:03.359781Z",
     "iopub.status.busy": "2021-12-20T19:24:03.359136Z",
     "iopub.status.idle": "2021-12-20T19:24:03.371605Z",
     "shell.execute_reply": "2021-12-20T19:24:03.370415Z",
     "shell.execute_reply.started": "2021-12-20T19:24:03.359735Z"
    }
   },
   "outputs": [],
   "source": [
    "Final_df= pd.concat([df_num, df_obj], axis=1)"
   ]
  },
  {
   "cell_type": "code",
   "execution_count": 70,
   "metadata": {
    "execution": {
     "iopub.execute_input": "2021-12-20T19:24:03.373967Z",
     "iopub.status.busy": "2021-12-20T19:24:03.373138Z",
     "iopub.status.idle": "2021-12-20T19:24:03.40438Z",
     "shell.execute_reply": "2021-12-20T19:24:03.403051Z",
     "shell.execute_reply.started": "2021-12-20T19:24:03.373925Z"
    }
   },
   "outputs": [
    {
     "data": {
      "text/html": [
       "<div>\n",
       "<style scoped>\n",
       "    .dataframe tbody tr th:only-of-type {\n",
       "        vertical-align: middle;\n",
       "    }\n",
       "\n",
       "    .dataframe tbody tr th {\n",
       "        vertical-align: top;\n",
       "    }\n",
       "\n",
       "    .dataframe thead th {\n",
       "        text-align: right;\n",
       "    }\n",
       "</style>\n",
       "<table border=\"1\" class=\"dataframe\">\n",
       "  <thead>\n",
       "    <tr style=\"text-align: right;\">\n",
       "      <th></th>\n",
       "      <th>Lot Frontage</th>\n",
       "      <th>Lot Area</th>\n",
       "      <th>Overall Qual</th>\n",
       "      <th>Overall Cond</th>\n",
       "      <th>Year Built</th>\n",
       "      <th>Year Remod/Add</th>\n",
       "      <th>Mas Vnr Area</th>\n",
       "      <th>BsmtFin SF 1</th>\n",
       "      <th>BsmtFin SF 2</th>\n",
       "      <th>Bsmt Unf SF</th>\n",
       "      <th>...</th>\n",
       "      <th>Sale Type_ConLw</th>\n",
       "      <th>Sale Type_New</th>\n",
       "      <th>Sale Type_Oth</th>\n",
       "      <th>Sale Type_VWD</th>\n",
       "      <th>Sale Type_WD</th>\n",
       "      <th>Sale Condition_AdjLand</th>\n",
       "      <th>Sale Condition_Alloca</th>\n",
       "      <th>Sale Condition_Family</th>\n",
       "      <th>Sale Condition_Normal</th>\n",
       "      <th>Sale Condition_Partial</th>\n",
       "    </tr>\n",
       "  </thead>\n",
       "  <tbody>\n",
       "    <tr>\n",
       "      <th>0</th>\n",
       "      <td>141.0</td>\n",
       "      <td>31770</td>\n",
       "      <td>6</td>\n",
       "      <td>5</td>\n",
       "      <td>1960</td>\n",
       "      <td>1960</td>\n",
       "      <td>112.0</td>\n",
       "      <td>639.0</td>\n",
       "      <td>0.0</td>\n",
       "      <td>441.0</td>\n",
       "      <td>...</td>\n",
       "      <td>0</td>\n",
       "      <td>0</td>\n",
       "      <td>0</td>\n",
       "      <td>0</td>\n",
       "      <td>1</td>\n",
       "      <td>0</td>\n",
       "      <td>0</td>\n",
       "      <td>0</td>\n",
       "      <td>1</td>\n",
       "      <td>0</td>\n",
       "    </tr>\n",
       "    <tr>\n",
       "      <th>1</th>\n",
       "      <td>80.0</td>\n",
       "      <td>11622</td>\n",
       "      <td>5</td>\n",
       "      <td>6</td>\n",
       "      <td>1961</td>\n",
       "      <td>1961</td>\n",
       "      <td>0.0</td>\n",
       "      <td>468.0</td>\n",
       "      <td>144.0</td>\n",
       "      <td>270.0</td>\n",
       "      <td>...</td>\n",
       "      <td>0</td>\n",
       "      <td>0</td>\n",
       "      <td>0</td>\n",
       "      <td>0</td>\n",
       "      <td>1</td>\n",
       "      <td>0</td>\n",
       "      <td>0</td>\n",
       "      <td>0</td>\n",
       "      <td>1</td>\n",
       "      <td>0</td>\n",
       "    </tr>\n",
       "    <tr>\n",
       "      <th>2</th>\n",
       "      <td>81.0</td>\n",
       "      <td>14267</td>\n",
       "      <td>6</td>\n",
       "      <td>6</td>\n",
       "      <td>1958</td>\n",
       "      <td>1958</td>\n",
       "      <td>108.0</td>\n",
       "      <td>923.0</td>\n",
       "      <td>0.0</td>\n",
       "      <td>406.0</td>\n",
       "      <td>...</td>\n",
       "      <td>0</td>\n",
       "      <td>0</td>\n",
       "      <td>0</td>\n",
       "      <td>0</td>\n",
       "      <td>1</td>\n",
       "      <td>0</td>\n",
       "      <td>0</td>\n",
       "      <td>0</td>\n",
       "      <td>1</td>\n",
       "      <td>0</td>\n",
       "    </tr>\n",
       "    <tr>\n",
       "      <th>3</th>\n",
       "      <td>93.0</td>\n",
       "      <td>11160</td>\n",
       "      <td>7</td>\n",
       "      <td>5</td>\n",
       "      <td>1968</td>\n",
       "      <td>1968</td>\n",
       "      <td>0.0</td>\n",
       "      <td>1065.0</td>\n",
       "      <td>0.0</td>\n",
       "      <td>1045.0</td>\n",
       "      <td>...</td>\n",
       "      <td>0</td>\n",
       "      <td>0</td>\n",
       "      <td>0</td>\n",
       "      <td>0</td>\n",
       "      <td>1</td>\n",
       "      <td>0</td>\n",
       "      <td>0</td>\n",
       "      <td>0</td>\n",
       "      <td>1</td>\n",
       "      <td>0</td>\n",
       "    </tr>\n",
       "    <tr>\n",
       "      <th>4</th>\n",
       "      <td>74.0</td>\n",
       "      <td>13830</td>\n",
       "      <td>5</td>\n",
       "      <td>5</td>\n",
       "      <td>1997</td>\n",
       "      <td>1998</td>\n",
       "      <td>0.0</td>\n",
       "      <td>791.0</td>\n",
       "      <td>0.0</td>\n",
       "      <td>137.0</td>\n",
       "      <td>...</td>\n",
       "      <td>0</td>\n",
       "      <td>0</td>\n",
       "      <td>0</td>\n",
       "      <td>0</td>\n",
       "      <td>1</td>\n",
       "      <td>0</td>\n",
       "      <td>0</td>\n",
       "      <td>0</td>\n",
       "      <td>1</td>\n",
       "      <td>0</td>\n",
       "    </tr>\n",
       "  </tbody>\n",
       "</table>\n",
       "<p>5 rows × 274 columns</p>\n",
       "</div>"
      ],
      "text/plain": [
       "   Lot Frontage  Lot Area  Overall Qual  Overall Cond  Year Built  \\\n",
       "0         141.0     31770             6             5        1960   \n",
       "1          80.0     11622             5             6        1961   \n",
       "2          81.0     14267             6             6        1958   \n",
       "3          93.0     11160             7             5        1968   \n",
       "4          74.0     13830             5             5        1997   \n",
       "\n",
       "   Year Remod/Add  Mas Vnr Area  BsmtFin SF 1  BsmtFin SF 2  Bsmt Unf SF  ...  \\\n",
       "0            1960         112.0         639.0           0.0        441.0  ...   \n",
       "1            1961           0.0         468.0         144.0        270.0  ...   \n",
       "2            1958         108.0         923.0           0.0        406.0  ...   \n",
       "3            1968           0.0        1065.0           0.0       1045.0  ...   \n",
       "4            1998           0.0         791.0           0.0        137.0  ...   \n",
       "\n",
       "   Sale Type_ConLw  Sale Type_New  Sale Type_Oth  Sale Type_VWD  \\\n",
       "0                0              0              0              0   \n",
       "1                0              0              0              0   \n",
       "2                0              0              0              0   \n",
       "3                0              0              0              0   \n",
       "4                0              0              0              0   \n",
       "\n",
       "   Sale Type_WD   Sale Condition_AdjLand  Sale Condition_Alloca  \\\n",
       "0              1                       0                      0   \n",
       "1              1                       0                      0   \n",
       "2              1                       0                      0   \n",
       "3              1                       0                      0   \n",
       "4              1                       0                      0   \n",
       "\n",
       "   Sale Condition_Family  Sale Condition_Normal  Sale Condition_Partial  \n",
       "0                      0                      1                       0  \n",
       "1                      0                      1                       0  \n",
       "2                      0                      1                       0  \n",
       "3                      0                      1                       0  \n",
       "4                      0                      1                       0  \n",
       "\n",
       "[5 rows x 274 columns]"
      ]
     },
     "execution_count": 70,
     "metadata": {},
     "output_type": "execute_result"
    }
   ],
   "source": [
    "Final_df.head()"
   ]
  },
  {
   "cell_type": "markdown",
   "metadata": {},
   "source": [
    "#### Now, the Dataset is Ready for any Machine Learing Model & Analysis"
   ]
  },
  {
   "cell_type": "code",
   "execution_count": null,
   "metadata": {},
   "outputs": [],
   "source": []
  }
 ],
 "metadata": {
  "kernelspec": {
   "display_name": "Python 3 (ipykernel)",
   "language": "python",
   "name": "python3"
  },
  "language_info": {
   "codemirror_mode": {
    "name": "ipython",
    "version": 3
   },
   "file_extension": ".py",
   "mimetype": "text/x-python",
   "name": "python",
   "nbconvert_exporter": "python",
   "pygments_lexer": "ipython3",
   "version": "3.9.12"
  }
 },
 "nbformat": 4,
 "nbformat_minor": 4
}
